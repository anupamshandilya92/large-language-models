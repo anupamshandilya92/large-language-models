{
 "cells": [
  {
   "cell_type": "markdown",
   "id": "65889918",
   "metadata": {
    "papermill": {
     "duration": 0.007212,
     "end_time": "2024-12-27T20:02:05.826042",
     "exception": false,
     "start_time": "2024-12-27T20:02:05.818830",
     "status": "completed"
    },
    "tags": []
   },
   "source": [
    "This notebook is part of a series in which we will explore different state-of-the-art techniques that have been recently developed and are used for building LLM applications. We go over high-level concepts used in fine-tuning an LLM model, and build a pipeline to fine-tune Google's Gemma 2 model.\n",
    "\n",
    "## 1. Introduction \n",
    "Large Language Models (LLM), in essence are very huge neural networks containing billions of parameters. In recent years, LLMs have have demonstrated remarkable success in a lot of tasks like text generation, chat bots, code generation etc. A lot of new techniques have been developed for training these models and adapting them for specific applications. In this notebook we aim to cover one of these techniques, viz. Fine Tuning LLM. This guide focuses on the fine-tuning process of a Large Language Model for English-to-Hindi translation tasks. a Large Language Model for English to Hindi translation task. In this notebook we fine-tune Gemma 2b, a two-billion parameter small-LLM developed by Google. We utilize a Hindi-English translation dataset to improve performance of Gemma 2-2b model on Hindi to English machine translation task. We make use of open-source dataset curated by Computation for Indian Language Technology (CFILT), IIT Bombay. This dataset is a collection of around 1,659,083 English sentences and their Hindi translations. We cover the details of this dataset in a later section.\n",
    "\n",
    "Gemma 2 is a family of lightweight open-source LLM released by Google in 2024. They are  decoder-only large language models, available in English. Gemma models are well-suited for a variety of text-generation tasks, including question-answering, summarization, and reasoning. Gemma 2 has models in sizes: 2 billion, 9 billion and 27 billion parameters.\n",
    "\n",
    "### Motivation for Hindi-English Translation\n",
    "Hindi is one of the low-resource language with limited support across LLM models. The complexities of grammatical structures, vocabulary differences, cultural contexts, script variations, and syntactic intricacies make English to Hindi translation a challenging yet fascinating task. Our goal is to see how well Gemma performs on this task, and how much can we improve its performance by fine-tuning it with a small dataset.\n",
    "\n",
    "\n",
    "### Why Fine-Tune an LLM?\n",
    "LLMs are trained using a large corpus of datasets. They are able to answer general questions about a variety of topics. More often we are interested in utilizing LLMs for specific tasks like question-answering, information retrieval from organization's documents, building chatbots for customer service, machine translation of text from one language to another, etc. among others. These applications require us to update the knowledge of LLMs using relevant datasets. Two prominent methods used to improve an existing pre-trained model for specific tasks are fine-tuning and retrieval augmented generation (RAG). A RAG pipeline augments LLM by using a retrieved-context (relevant text) from an existing database/datasource. We store relevant documents in a database (usually a vector database), and query this database to get this relevant text based on how similar it is to our prompt. Then retrieved-context is added to the original prompt and passed to LLM, this provides additional information to LLM to generate its response. \n",
    "    \n",
    "Fine-tuning involves adapting a pre-trained model to a specific task. It helps improve LLM's capabilities on domain-specific datasets that were not used in training the model. In this, we update parameters (also called weights) from a few or all layers of the neural network model (LLM). This is done by using a labeled dataset related to a specific task to train the model to update its parameters. This enables the fine-tuned model to have better performance for the specific task. \n",
    "\n",
    "LLMs have a lot of parameters (weights). Fine-tuning an LLM model and updating of all of its parameters can be a tedious task requiring a lot of time and computation resources. The Gemma 2 2B that is being used in this notebook has 2,617,270,528 parameters! Updating all parameters will be a resource-heavy process that will take up a lot of time. To get around the time and compute resource limitation, we make use of a new method called Low-Rank Adaptation (LoRA). This technique, in summary, helps lower the number of trained weights needed by a lot, making fine-tuning more accessible on smaller machines. \n",
    "\n",
    "Once we have fine-tuned the model, for evaluation, we compare the performance of baseline Gemma 2b model with the fine-tuned model using BLEU score, a commonly used metrics for machine translation task, to see how much does the model improve with our fine tuning. Manual evaluations by Human evaluators is more rigorous for machine translation tasks, but it is expensive. So in this exercise we rely on offline metrics like BLEU score. The evaluation code and results are available in the notebook named Gemma-English-Hindi Evaluation.\n",
    "\n"
   ]
  },
  {
   "cell_type": "code",
   "execution_count": 1,
   "id": "4e495efd",
   "metadata": {
    "_cell_guid": "b1076dfc-b9ad-4769-8c92-a6c4dae69d19",
    "_uuid": "8f2839f25d086af736a60e9eeb907d3b93b6e0e5",
    "execution": {
     "iopub.execute_input": "2024-12-27T20:02:05.841633Z",
     "iopub.status.busy": "2024-12-27T20:02:05.841331Z",
     "iopub.status.idle": "2024-12-27T20:02:47.076928Z",
     "shell.execute_reply": "2024-12-27T20:02:47.076001Z"
    },
    "papermill": {
     "duration": 41.251701,
     "end_time": "2024-12-27T20:02:47.085509",
     "exception": false,
     "start_time": "2024-12-27T20:02:05.833808",
     "status": "completed"
    },
    "tags": []
   },
   "outputs": [
    {
     "name": "stdout",
     "output_type": "stream",
     "text": [
      "[nltk_data] Downloading package punkt to /usr/share/nltk_data...\n",
      "[nltk_data]   Package punkt is already up-to-date!\n"
     ]
    },
    {
     "data": {
      "text/plain": [
       "True"
      ]
     },
     "execution_count": 1,
     "metadata": {},
     "output_type": "execute_result"
    }
   ],
   "source": [
    "# Install Keras 3 last. See https://keras.io/getting_started/ for more details.\n",
    "!pip install -q -U keras-nlp datasets\n",
    "!pip install -q -U keras\n",
    "\n",
    "import os\n",
    "import keras_nlp\n",
    "import keras\n",
    "import tensorflow as tf\n",
    "\n",
    "import numpy as np\n",
    "import pandas as pd\n",
    "from transformers import AutoTokenizer, TrainingArguments, pipeline\n",
    "import nltk\n",
    "from nltk.translate.bleu_score import sentence_bleu\n",
    "from nltk.tokenize import word_tokenize\n",
    "\n",
    "import warnings\n",
    "import time\n",
    "\n",
    "warnings.filterwarnings('ignore')\n",
    "nltk.download(\"punkt\")"
   ]
  },
  {
   "cell_type": "code",
   "execution_count": 2,
   "id": "8d7faaa3",
   "metadata": {
    "execution": {
     "iopub.execute_input": "2024-12-27T20:02:47.100196Z",
     "iopub.status.busy": "2024-12-27T20:02:47.099633Z",
     "iopub.status.idle": "2024-12-27T20:02:47.104018Z",
     "shell.execute_reply": "2024-12-27T20:02:47.103255Z"
    },
    "papermill": {
     "duration": 0.013429,
     "end_time": "2024-12-27T20:02:47.105545",
     "exception": false,
     "start_time": "2024-12-27T20:02:47.092116",
     "status": "completed"
    },
    "tags": []
   },
   "outputs": [],
   "source": [
    "# Configs \n",
    "# Set the backbend before importing Keras\n",
    "os.environ[\"KERAS_BACKEND\"] = \"jax\"\n",
    "# Avoid memory fragmentation on JAX backend.\n",
    "os.environ[\"XLA_PYTHON_CLIENT_MEM_FRACTION\"] = \"1.00\"\n",
    "\n",
    "model_id = \"gemma2_instruct_2b_en\"\n",
    "token_limit = 256\n",
    "\n",
    "# Run at half precision.\n",
    "#keras.config.set_floatx(\"bfloat16\")\n"
   ]
  },
  {
   "cell_type": "code",
   "execution_count": 3,
   "id": "41307d20",
   "metadata": {
    "execution": {
     "iopub.execute_input": "2024-12-27T20:02:47.119521Z",
     "iopub.status.busy": "2024-12-27T20:02:47.119260Z",
     "iopub.status.idle": "2024-12-27T20:02:47.123425Z",
     "shell.execute_reply": "2024-12-27T20:02:47.122729Z"
    },
    "papermill": {
     "duration": 0.012965,
     "end_time": "2024-12-27T20:02:47.124980",
     "exception": false,
     "start_time": "2024-12-27T20:02:47.112015",
     "status": "completed"
    },
    "tags": []
   },
   "outputs": [],
   "source": [
    "def calculate_bleu_score(reference, candidate):\n",
    "    reference_tokens = word_tokenize(reference)\n",
    "    candidate_tokens = word_tokenize(candidate)\n",
    "\n",
    "    return sentence_bleu([reference_tokens], candidate_tokens)\n",
    "\n",
    "def clean_model_output(txt):\n",
    "    \"\"\"Removes the control tokens from model output \"\"\"\n",
    "    txt = txt[txt.find('model') + 6 : -14]\n",
    "    return txt"
   ]
  },
  {
   "cell_type": "code",
   "execution_count": 4,
   "id": "9435228c",
   "metadata": {
    "execution": {
     "iopub.execute_input": "2024-12-27T20:02:47.138780Z",
     "iopub.status.busy": "2024-12-27T20:02:47.138492Z",
     "iopub.status.idle": "2024-12-27T20:02:47.142651Z",
     "shell.execute_reply": "2024-12-27T20:02:47.141858Z"
    },
    "papermill": {
     "duration": 0.012811,
     "end_time": "2024-12-27T20:02:47.144222",
     "exception": false,
     "start_time": "2024-12-27T20:02:47.131411",
     "status": "completed"
    },
    "tags": []
   },
   "outputs": [],
   "source": [
    "# Helpers : https://github.com/google-gemini/gemma-cookbook/blob/main/Gemma/Advanced_Prompting_Techniques.ipynb\n",
    "def convert_message_to_prompt(message: str, model_prefix: str = \"\") -> str:\n",
    "    \"\"\"Converts a message to a prompt for a large language model.\n",
    "\n",
    "    Args:\n",
    "        message: The message to convert (str).\n",
    "        model_prefix: An optional prefix to prepend to the model response (str).\n",
    "\n",
    "    Returns:\n",
    "        A string containing the prompt for the large language model (str).\n",
    "    \"\"\"\n",
    "\n",
    "    return (\n",
    "        f\"<start_of_turn>user\\n Translate the sentence into hindi and only return the translation. Text :  {message}<end_of_turn>\\n\"\n",
    "        f\"<start_of_turn>model\\n{model_prefix}\"\n",
    "    )"
   ]
  },
  {
   "cell_type": "markdown",
   "id": "5ee5d18f",
   "metadata": {
    "papermill": {
     "duration": 0.006266,
     "end_time": "2024-12-27T20:02:47.157035",
     "exception": false,
     "start_time": "2024-12-27T20:02:47.150769",
     "status": "completed"
    },
    "tags": []
   },
   "source": [
    "## 2. Dataset Details\n",
    "\n",
    "We use IIT Bombay English-Hindi parallel corpus in this notebook. This dataset is curated Center for Indian Language Technology, IIT Bombay. The training corpus consists of sentences, phrases as  well as dictionary entries, spanning many applications and domains. The corpus includes over 1.66 million sentence pairs. It has been compiled from a variety of existing sources like OPUS, HindEn, GNOME, KDE, Tanzil, Tatoeba, OpenSubs2013, HindEnCorp, Hindi-English Wordnet, Mahashabdkosh, TED talks, judicial domains, Indian government websites, Wiki headlines, and book translations.\n",
    "\n",
    "The inclusion of data from wide range of sources in this dataset ensures a rich variety of language use cases. This dataset is not tokenized, allowing users to process it according to their specific needs. It also includes monolingual Hindi and English corpora, which can be useful for additional language modeling tasks.\n",
    "\n",
    "Hindi language is based upon Devanagari script. It has around 48 basic alphabets consisting of 14 vowels and 34 consonants. It further has 20 diactrics that modify the consonants. Gemma is trained with english dataset, it has some tokens from devanagari script and can perform basic translation. Though, fine-tuning model will not increase the vocabulary to include more tokens in Devanagari script, it may improve model's understanding of Hindi language.\n",
    "\n",
    "The diverse range of sources ensures that the model is exposed to various writing styles and domains, enhancing its robustness. This exposure provides a rich vocabulary and a wide array of linguistic structures, which are crucial for training effective translation models. By incorporating texts from different domains (e.g., legal, administrative, technical), the model can better understand context-specific language use, thereby improving translation accuracy. Additionally, the inclusion of monolingual data allows the model to better grasp the nuances of each language, leading to more natural and accurate translations.\n",
    "\n",
    "This dataset can be downloaded from HuggingFace datasets hub. It comes with the sentences split into training, eval, and test sets, consisting of 1,492,827 and 520 and 2507 segments respectively.\n",
    "\n",
    "See https://www.cfilt.iitb.ac.in/iitb_parallel/ and Kunchukuttan et al. 2018 for more details on the dataset collection methods.\n",
    "\n",
    "References:\n",
    "1. Kunchukuttan, A., Mehta, P., & Bhattacharyya, P. (2018). The IIT Bombay English-Hindi Parallel Corpus. In Proceedings of the Eleventh International Conference on Language Resources and Evaluation (LREC 2018). European Language Resources Association (ELRA)."
   ]
  },
  {
   "cell_type": "code",
   "execution_count": 5,
   "id": "e8cc7523",
   "metadata": {
    "execution": {
     "iopub.execute_input": "2024-12-27T20:02:47.170830Z",
     "iopub.status.busy": "2024-12-27T20:02:47.170507Z",
     "iopub.status.idle": "2024-12-27T20:02:55.363437Z",
     "shell.execute_reply": "2024-12-27T20:02:55.362464Z"
    },
    "papermill": {
     "duration": 8.201921,
     "end_time": "2024-12-27T20:02:55.365383",
     "exception": false,
     "start_time": "2024-12-27T20:02:47.163462",
     "status": "completed"
    },
    "tags": []
   },
   "outputs": [
    {
     "name": "stdout",
     "output_type": "stream",
     "text": [
      "(1659083, 1)\n",
      "(520, 1)\n",
      "(2507, 1)\n"
     ]
    }
   ],
   "source": [
    "splits = {\n",
    "    \"train\": \"data/train-00000-of-00001.parquet\",\n",
    "    \"validation\": \"data/validation-00000-of-00001.parquet\",\n",
    "    \"test\": \"data/test-00000-of-00001.parquet\",\n",
    "}\n",
    "\n",
    "# load the parquet files from huggingface\n",
    "train = pd.read_parquet(\n",
    "    \"hf://datasets/cfilt/iitb-english-hindi/\" + splits[\"train\"]\n",
    ")\n",
    "val = pd.read_parquet(\n",
    "    \"hf://datasets/cfilt/iitb-english-hindi/\" + splits[\"validation\"]\n",
    ")\n",
    "test = pd.read_parquet(\n",
    "    \"hf://datasets/cfilt/iitb-english-hindi/\" + splits[\"test\"]\n",
    ")\n",
    "\n",
    "print(train.shape)\n",
    "print(val.shape)\n",
    "print(test.shape)"
   ]
  },
  {
   "cell_type": "code",
   "execution_count": 6,
   "id": "0127d711",
   "metadata": {
    "execution": {
     "iopub.execute_input": "2024-12-27T20:02:55.380377Z",
     "iopub.status.busy": "2024-12-27T20:02:55.379894Z",
     "iopub.status.idle": "2024-12-27T20:02:55.385957Z",
     "shell.execute_reply": "2024-12-27T20:02:55.385199Z"
    },
    "papermill": {
     "duration": 0.015007,
     "end_time": "2024-12-27T20:02:55.387446",
     "exception": false,
     "start_time": "2024-12-27T20:02:55.372439",
     "status": "completed"
    },
    "tags": []
   },
   "outputs": [
    {
     "data": {
      "text/plain": [
       "array([{'en': 'Highlight border color', 'hi': 'सीमांत (बोर्डर) के रंग को हाइलाइट करें'}],\n",
       "      dtype=object)"
      ]
     },
     "execution_count": 6,
     "metadata": {},
     "output_type": "execute_result"
    }
   ],
   "source": [
    "train.iloc[7,:].values"
   ]
  },
  {
   "cell_type": "markdown",
   "id": "32569187",
   "metadata": {
    "papermill": {
     "duration": 0.006345,
     "end_time": "2024-12-27T20:02:55.400445",
     "exception": false,
     "start_time": "2024-12-27T20:02:55.394100",
     "status": "completed"
    },
    "tags": []
   },
   "source": [
    "## 3. Model details: Gemma 2\n",
    "\n",
    "Gemma is a family of lightweight, state-of-the-art open models from Google. They are built from the same research and technology used to create the Gemini models, but unlike Gemini models these Gemma models are open models that are available for free. They are text-to-text, decoder-only large language models, available in English, pre-trained variants, and instruction-tuned variants. Gemma models are well-suited for a variety of text-generation tasks, including question-answering, summarization, and reasoning. Their relatively small size makes it possible to deploy them in environments with limited resources such as a laptop, desktop or your own cloud infrastructure, democratizing access to state-of-the art AI models and helping foster innovation for everyone.\n",
    "\n",
    "See https://developers.googleblog.com/en/gemma-explained-overview-gemma-model-family-architectures/ for architecture of Gemma models. Below we cover some highlights and training details.\n",
    "\n",
    "**Key Architecture Highlights**:\n",
    "\n",
    "1. GeGlu activation : GeGLU for non linearity. Gated Linear Unit with GELU activation as given below:  $$GeGLU(x) = x*sigmoid(x) + x 0.5 (1 + tanh[sqrt(2/pi) (x + 0.044715 x³)])$$ This activation function is a combination of Gated Linear Units (GLU)  and Gaussian Error Linear Units (GELU). For an input 𝑥, the GeGLU is defined as:\n",
    "$$GeGLU(𝑥)=GLU(GELU(𝑥))$$\n",
    "This means the input 𝑥 is first passed through a GELU activation, and the resulting output is then modulated by a GLU. GLU introduces gating mechanisms to control information flow, enhancing learning.\n",
    "GELU provides smooth, differentiable activations that effectively modulate the input. GeGLU combines GLU and GELU, leveraging the strengths of both to model complex, non-linear patterns in the data.\n",
    "    1. Gated Linear Units (GLUs) are a type of activation function that enhances the learning capabilities of neural networks by introducing a gating mechanism. The GLUs use gates to control the flow of information through the network. It has two parts, the input transformation (x * W + b) and a gating mechanism, sigmoid(x * V + c). The sigmoid part controls the flow of information, if it is close to 1 the correspoding elements (x * W + b) passes, if sigmoid is close to 0, (x * W + b) is suppressed. This gating allows the network to focus on relevant features and ignore irrelevant ones, leading to more efficient learning and better generalization.\n",
    "$$\n",
    "\\text{GLU}(x) = (x * W + b) \\odot \\sigma(x * V + c)\n",
    "$$\n",
    "where, 𝑥 is the input vector.\n",
    "       𝑊 and 𝑉 are weight matrices learnt during training.\n",
    "       𝑏 and 𝑐 are bias vectors.\n",
    "       𝜎 is the sigmoid function.\n",
    "       ⊙ denotes element-wise multiplication.\n",
    "\n",
    "    2. Gaussian Error Linear Units (GELUs) are an activation function that combines the properties of linear and nonlinear activations. GELUs are known for their smoothness (in contrast to RELUs that switches abruptly between 0 and positive value) that and differentiability, which helps in training deep neural networks more effectively. \n",
    "$$\n",
    "\\text{GELU}(x) = x \\cdot \\Phi(x) = x \\cdot \\frac{1}{2} \\left[1 + \\text{erf}\\left(\\frac{x}{\\sqrt{2}}\\right)\\right]\n",
    "$$\n",
    " where, Φ(𝑥) is the standard Gaussian cumulative distribution function.\n",
    "        erf is the error function.\n",
    "    \n",
    "        - The term 0.5 * [ 1 + erf(x/sqrt(2))] acts like a gating mechanism. For large positive values of 𝑥, this term approaches 1, allowing 𝑥 to pass through almost unchanged. For large negative values of 𝑥, this term approaches 0, suppressing 𝑥. For values of 𝑥 near 0, the output is a fraction of 𝑥. \n",
    "\n",
    "        - GELU modulates the input based on the Gaussian CDF, scaling the input values smoothly. For large positive inputs, the activation approaches the input value, while for large negative inputs, it approaches zero. For inputs around zero, the activation is scaled down proportionally. This scaling helps the network focus on relevant features while suppressing less important ones.\n",
    "\n",
    "2. RoPe positional embeddings : Positional Encodings are used in transformer models to incorporate the order of the tokens (words or characters) in a sequence. They provide essential information about the position of tokens, helping the model understand the order and structure of the sequence and are added to token embeddings before feeding them into the transformer layers. ROPE embeddings make use a rotation matrix that helps capture the relative positions between tokens.\n",
    "   \n",
    "3. Multi Query Attention/Grouped-Query Attention (Ainslie et al., 2023): The attention mechanism allows the model to focus on different parts of the input sequence when making predictions. They make use of 3 matrices learnt during training for this, Query, Key and Value. The input embeddings are multiplied with these matrices to get Query vector, Key vector and Value vector. Instead of using a single attention mechanism, the models use multiple attention heads. Each head independently performs the attention mechanism on the input sequence. Multi Query Attention is a more memory-efficient variant of multi-head attention, where keys and values are shared across all heads, leading to reduced memory bandwidth requirements and improved efficiency during inference\n",
    "   \n",
    "4. RMSNorm : Root Mean Square Layer Normalization, is a technique used to stabilize the training of deep neural networks by normalizing the inputs to each layer. It simplifies the traditional Layer Normalization by removing the mean-centering operation and instead normalizing layer activations using the RMS statistic.\n",
    " \n",
    "5. Interleaving global and local attention layers (Beltagy et al., 2020): Interleaving global and local attention layers is a technique used in neural network architectures to effectively capture both local and global contextual information. Local attention focuses on capturing relationships and interactions between nearby nodes or tokens in the input sequence. It helps in understanding fine-grained details and local structures.Global Attention focuses on capturing relationships and interactions between distant nodes or tokens. It helps in understanding broader context and global structures.\n",
    "     \n",
    "\n",
    "\n",
    "**Training Highlights**:\n",
    "1. Pretraining with 3 trillion tokens primarily-English data from web documents, mathematics, and code.\n",
    "   \n",
    "2. Sentence piece token/byte level tokenization for unknown tokens :  It splits digits, does not remove extra whitespace, and relies on byte-level encodings for unknown tokens.\n",
    "   \n",
    "4. Teacher-student training with 27b model : Knowledge Distillation (Hinton et al., 2015) is a recent technique used to train a small model using a larger model as a teacher (27b Gemma 2 in this case). The smaller model (referred to as student model) is trained using the larger model's (teacher model) output probabilities. This preserves critical knowledge, ensures a smooth and effective training process, and enables smaller models to retain larger model's language capabilities.\\\n",
    "   \n",
    "5. Dictionary size : The vocabulary size of an LLM refers to the number of unique tokens (words, subwords, or characters) that the model can recognize and generate. The vocabulary size  for Gemma 2 is 256k tokens.\n",
    "   \n",
    "6. Instruction fine-tuning : After pre-training, the Gemma models are instruction-tuned using supervised fine-tuning (SFT) using a combination of text-only, English-only synthetic and human-created prompt-response pairs. Next, the models are further improved using  Reinforcement Learning from Human Feedback (RLHF), leveraging a reward model trained on labeled English-only preference data and applying the same prompts used during the SFT phase.\n",
    "\n",
    "\n",
    "**References**: \n",
    "1. Gemma Team. (2024). Gemma 2: Improving Open Language Models at a Practical Size.\n",
    "2. Hendrycks, D., & Gimpel, K. (2016). Gaussian Error Linear Units (GELUs). https://doi.org/10.48550/arXiv.1606.08415\n",
    "3. Shazeer, N. (2020). GLU Variants Improve Transformer. https://doi.org/10.48550/arXiv.2002.05202\n",
    "4. Hinton, G., Vinyals, O., & Dean, J. (2015). Distilling the knowledge in a neural network. \n",
    "5. Su, J., Lu, Y., Pan, S., Murtadha, A., Wen, B., & Liu, Y. (2021). RoFormer: Enhanced Transformer with Rotary Position Embedding. \n",
    "6. Beltagy, E., & Smith, N. A. (2020). Longformer: The Long-Document Transformer.\n",
    "7. Ainslie, J., Lee-Thorp, J., de Jong, M., Zemlyanskiy, Y., Lebrón, F., & Sanghai, S. (2023). GQA: Training Generalized Multi-Query Transformer Models from Multi-Head Checkpoints. \n"
   ]
  },
  {
   "cell_type": "code",
   "execution_count": 7,
   "id": "1eeb138d",
   "metadata": {
    "execution": {
     "iopub.execute_input": "2024-12-27T20:02:55.414560Z",
     "iopub.status.busy": "2024-12-27T20:02:55.414319Z",
     "iopub.status.idle": "2024-12-27T20:03:45.907566Z",
     "shell.execute_reply": "2024-12-27T20:03:45.906664Z"
    },
    "papermill": {
     "duration": 50.502246,
     "end_time": "2024-12-27T20:03:45.909346",
     "exception": false,
     "start_time": "2024-12-27T20:02:55.407100",
     "status": "completed"
    },
    "tags": []
   },
   "outputs": [
    {
     "name": "stderr",
     "output_type": "stream",
     "text": [
      "normalizer.cc(51) LOG(INFO) precompiled_charsmap is empty. use identity normalization.\n"
     ]
    },
    {
     "data": {
      "text/html": [
       "<pre style=\"white-space:pre;overflow-x:auto;line-height:normal;font-family:Menlo,'DejaVu Sans Mono',consolas,'Courier New',monospace\"><span style=\"font-weight: bold\">Preprocessor: \"gemma_causal_lm_preprocessor\"</span>\n",
       "</pre>\n"
      ],
      "text/plain": [
       "\u001b[1mPreprocessor: \"gemma_causal_lm_preprocessor\"\u001b[0m\n"
      ]
     },
     "metadata": {},
     "output_type": "display_data"
    },
    {
     "data": {
      "text/html": [
       "<pre style=\"white-space:pre;overflow-x:auto;line-height:normal;font-family:Menlo,'DejaVu Sans Mono',consolas,'Courier New',monospace\">┏━━━━━━━━━━━━━━━━━━━━━━━━━━━━━━━━━━━━━━━━━━━━━━━━━━━━━━━━━━━━━━━┳━━━━━━━━━━━━━━━━━━━━━━━━━━━━━━━━━━━━━━━━━━┓\n",
       "┃<span style=\"font-weight: bold\"> Layer (type)                                                  </span>┃<span style=\"font-weight: bold\">                                   Config </span>┃\n",
       "┡━━━━━━━━━━━━━━━━━━━━━━━━━━━━━━━━━━━━━━━━━━━━━━━━━━━━━━━━━━━━━━━╇━━━━━━━━━━━━━━━━━━━━━━━━━━━━━━━━━━━━━━━━━━┩\n",
       "│ gemma_tokenizer (<span style=\"color: #0087ff; text-decoration-color: #0087ff\">GemmaTokenizer</span>)                              │                      Vocab size: <span style=\"color: #00af00; text-decoration-color: #00af00\">256,000</span> │\n",
       "└───────────────────────────────────────────────────────────────┴──────────────────────────────────────────┘\n",
       "</pre>\n"
      ],
      "text/plain": [
       "┏━━━━━━━━━━━━━━━━━━━━━━━━━━━━━━━━━━━━━━━━━━━━━━━━━━━━━━━━━━━━━━━┳━━━━━━━━━━━━━━━━━━━━━━━━━━━━━━━━━━━━━━━━━━┓\n",
       "┃\u001b[1m \u001b[0m\u001b[1mLayer (type)                                                 \u001b[0m\u001b[1m \u001b[0m┃\u001b[1m \u001b[0m\u001b[1m                                  Config\u001b[0m\u001b[1m \u001b[0m┃\n",
       "┡━━━━━━━━━━━━━━━━━━━━━━━━━━━━━━━━━━━━━━━━━━━━━━━━━━━━━━━━━━━━━━━╇━━━━━━━━━━━━━━━━━━━━━━━━━━━━━━━━━━━━━━━━━━┩\n",
       "│ gemma_tokenizer (\u001b[38;5;33mGemmaTokenizer\u001b[0m)                              │                      Vocab size: \u001b[38;5;34m256,000\u001b[0m │\n",
       "└───────────────────────────────────────────────────────────────┴──────────────────────────────────────────┘\n"
      ]
     },
     "metadata": {},
     "output_type": "display_data"
    },
    {
     "data": {
      "text/html": [
       "<pre style=\"white-space:pre;overflow-x:auto;line-height:normal;font-family:Menlo,'DejaVu Sans Mono',consolas,'Courier New',monospace\"><span style=\"font-weight: bold\">Model: \"gemma_causal_lm\"</span>\n",
       "</pre>\n"
      ],
      "text/plain": [
       "\u001b[1mModel: \"gemma_causal_lm\"\u001b[0m\n"
      ]
     },
     "metadata": {},
     "output_type": "display_data"
    },
    {
     "data": {
      "text/html": [
       "<pre style=\"white-space:pre;overflow-x:auto;line-height:normal;font-family:Menlo,'DejaVu Sans Mono',consolas,'Courier New',monospace\">┏━━━━━━━━━━━━━━━━━━━━━━━━━━━━━━━┳━━━━━━━━━━━━━━━━━━━━━━━━━━━┳━━━━━━━━━━━━━━━━━┳━━━━━━━━━━━━━━━━━━━━━━━━━━━━┓\n",
       "┃<span style=\"font-weight: bold\"> Layer (type)                  </span>┃<span style=\"font-weight: bold\"> Output Shape              </span>┃<span style=\"font-weight: bold\">         Param # </span>┃<span style=\"font-weight: bold\"> Connected to               </span>┃\n",
       "┡━━━━━━━━━━━━━━━━━━━━━━━━━━━━━━━╇━━━━━━━━━━━━━━━━━━━━━━━━━━━╇━━━━━━━━━━━━━━━━━╇━━━━━━━━━━━━━━━━━━━━━━━━━━━━┩\n",
       "│ padding_mask (<span style=\"color: #0087ff; text-decoration-color: #0087ff\">InputLayer</span>)     │ (<span style=\"color: #00d7ff; text-decoration-color: #00d7ff\">None</span>, <span style=\"color: #00d7ff; text-decoration-color: #00d7ff\">None</span>)              │               <span style=\"color: #00af00; text-decoration-color: #00af00\">0</span> │ -                          │\n",
       "├───────────────────────────────┼───────────────────────────┼─────────────────┼────────────────────────────┤\n",
       "│ token_ids (<span style=\"color: #0087ff; text-decoration-color: #0087ff\">InputLayer</span>)        │ (<span style=\"color: #00d7ff; text-decoration-color: #00d7ff\">None</span>, <span style=\"color: #00d7ff; text-decoration-color: #00d7ff\">None</span>)              │               <span style=\"color: #00af00; text-decoration-color: #00af00\">0</span> │ -                          │\n",
       "├───────────────────────────────┼───────────────────────────┼─────────────────┼────────────────────────────┤\n",
       "│ gemma_backbone                │ (<span style=\"color: #00d7ff; text-decoration-color: #00d7ff\">None</span>, <span style=\"color: #00d7ff; text-decoration-color: #00d7ff\">None</span>, <span style=\"color: #00af00; text-decoration-color: #00af00\">2304</span>)        │   <span style=\"color: #00af00; text-decoration-color: #00af00\">2,614,341,888</span> │ padding_mask[<span style=\"color: #00af00; text-decoration-color: #00af00\">0</span>][<span style=\"color: #00af00; text-decoration-color: #00af00\">0</span>],        │\n",
       "│ (<span style=\"color: #0087ff; text-decoration-color: #0087ff\">GemmaBackbone</span>)               │                           │                 │ token_ids[<span style=\"color: #00af00; text-decoration-color: #00af00\">0</span>][<span style=\"color: #00af00; text-decoration-color: #00af00\">0</span>]            │\n",
       "├───────────────────────────────┼───────────────────────────┼─────────────────┼────────────────────────────┤\n",
       "│ token_embedding               │ (<span style=\"color: #00d7ff; text-decoration-color: #00d7ff\">None</span>, <span style=\"color: #00d7ff; text-decoration-color: #00d7ff\">None</span>, <span style=\"color: #00af00; text-decoration-color: #00af00\">256000</span>)      │     <span style=\"color: #00af00; text-decoration-color: #00af00\">589,824,000</span> │ gemma_backbone[<span style=\"color: #00af00; text-decoration-color: #00af00\">0</span>][<span style=\"color: #00af00; text-decoration-color: #00af00\">0</span>]       │\n",
       "│ (<span style=\"color: #0087ff; text-decoration-color: #0087ff\">ReversibleEmbedding</span>)         │                           │                 │                            │\n",
       "└───────────────────────────────┴───────────────────────────┴─────────────────┴────────────────────────────┘\n",
       "</pre>\n"
      ],
      "text/plain": [
       "┏━━━━━━━━━━━━━━━━━━━━━━━━━━━━━━━┳━━━━━━━━━━━━━━━━━━━━━━━━━━━┳━━━━━━━━━━━━━━━━━┳━━━━━━━━━━━━━━━━━━━━━━━━━━━━┓\n",
       "┃\u001b[1m \u001b[0m\u001b[1mLayer (type)                 \u001b[0m\u001b[1m \u001b[0m┃\u001b[1m \u001b[0m\u001b[1mOutput Shape             \u001b[0m\u001b[1m \u001b[0m┃\u001b[1m \u001b[0m\u001b[1m        Param #\u001b[0m\u001b[1m \u001b[0m┃\u001b[1m \u001b[0m\u001b[1mConnected to              \u001b[0m\u001b[1m \u001b[0m┃\n",
       "┡━━━━━━━━━━━━━━━━━━━━━━━━━━━━━━━╇━━━━━━━━━━━━━━━━━━━━━━━━━━━╇━━━━━━━━━━━━━━━━━╇━━━━━━━━━━━━━━━━━━━━━━━━━━━━┩\n",
       "│ padding_mask (\u001b[38;5;33mInputLayer\u001b[0m)     │ (\u001b[38;5;45mNone\u001b[0m, \u001b[38;5;45mNone\u001b[0m)              │               \u001b[38;5;34m0\u001b[0m │ -                          │\n",
       "├───────────────────────────────┼───────────────────────────┼─────────────────┼────────────────────────────┤\n",
       "│ token_ids (\u001b[38;5;33mInputLayer\u001b[0m)        │ (\u001b[38;5;45mNone\u001b[0m, \u001b[38;5;45mNone\u001b[0m)              │               \u001b[38;5;34m0\u001b[0m │ -                          │\n",
       "├───────────────────────────────┼───────────────────────────┼─────────────────┼────────────────────────────┤\n",
       "│ gemma_backbone                │ (\u001b[38;5;45mNone\u001b[0m, \u001b[38;5;45mNone\u001b[0m, \u001b[38;5;34m2304\u001b[0m)        │   \u001b[38;5;34m2,614,341,888\u001b[0m │ padding_mask[\u001b[38;5;34m0\u001b[0m][\u001b[38;5;34m0\u001b[0m],        │\n",
       "│ (\u001b[38;5;33mGemmaBackbone\u001b[0m)               │                           │                 │ token_ids[\u001b[38;5;34m0\u001b[0m][\u001b[38;5;34m0\u001b[0m]            │\n",
       "├───────────────────────────────┼───────────────────────────┼─────────────────┼────────────────────────────┤\n",
       "│ token_embedding               │ (\u001b[38;5;45mNone\u001b[0m, \u001b[38;5;45mNone\u001b[0m, \u001b[38;5;34m256000\u001b[0m)      │     \u001b[38;5;34m589,824,000\u001b[0m │ gemma_backbone[\u001b[38;5;34m0\u001b[0m][\u001b[38;5;34m0\u001b[0m]       │\n",
       "│ (\u001b[38;5;33mReversibleEmbedding\u001b[0m)         │                           │                 │                            │\n",
       "└───────────────────────────────┴───────────────────────────┴─────────────────┴────────────────────────────┘\n"
      ]
     },
     "metadata": {},
     "output_type": "display_data"
    },
    {
     "data": {
      "text/html": [
       "<pre style=\"white-space:pre;overflow-x:auto;line-height:normal;font-family:Menlo,'DejaVu Sans Mono',consolas,'Courier New',monospace\"><span style=\"font-weight: bold\"> Total params: </span><span style=\"color: #00af00; text-decoration-color: #00af00\">2,614,341,888</span> (9.74 GB)\n",
       "</pre>\n"
      ],
      "text/plain": [
       "\u001b[1m Total params: \u001b[0m\u001b[38;5;34m2,614,341,888\u001b[0m (9.74 GB)\n"
      ]
     },
     "metadata": {},
     "output_type": "display_data"
    },
    {
     "data": {
      "text/html": [
       "<pre style=\"white-space:pre;overflow-x:auto;line-height:normal;font-family:Menlo,'DejaVu Sans Mono',consolas,'Courier New',monospace\"><span style=\"font-weight: bold\"> Trainable params: </span><span style=\"color: #00af00; text-decoration-color: #00af00\">2,614,341,888</span> (9.74 GB)\n",
       "</pre>\n"
      ],
      "text/plain": [
       "\u001b[1m Trainable params: \u001b[0m\u001b[38;5;34m2,614,341,888\u001b[0m (9.74 GB)\n"
      ]
     },
     "metadata": {},
     "output_type": "display_data"
    },
    {
     "data": {
      "text/html": [
       "<pre style=\"white-space:pre;overflow-x:auto;line-height:normal;font-family:Menlo,'DejaVu Sans Mono',consolas,'Courier New',monospace\"><span style=\"font-weight: bold\"> Non-trainable params: </span><span style=\"color: #00af00; text-decoration-color: #00af00\">0</span> (0.00 B)\n",
       "</pre>\n"
      ],
      "text/plain": [
       "\u001b[1m Non-trainable params: \u001b[0m\u001b[38;5;34m0\u001b[0m (0.00 B)\n"
      ]
     },
     "metadata": {},
     "output_type": "display_data"
    }
   ],
   "source": [
    "device_name = tf.test.gpu_device_name()\n",
    "with tf.device('/GPU:0'):\n",
    "    gemma_lm = keras_nlp.models.GemmaCausalLM.from_preset(model_id)\n",
    "    gemma_lm.summary()"
   ]
  },
  {
   "cell_type": "code",
   "execution_count": 8,
   "id": "b2647d49",
   "metadata": {
    "execution": {
     "iopub.execute_input": "2024-12-27T20:03:45.925608Z",
     "iopub.status.busy": "2024-12-27T20:03:45.925322Z",
     "iopub.status.idle": "2024-12-27T20:03:45.930383Z",
     "shell.execute_reply": "2024-12-27T20:03:45.929638Z"
    },
    "papermill": {
     "duration": 0.015109,
     "end_time": "2024-12-27T20:03:45.932032",
     "exception": false,
     "start_time": "2024-12-27T20:03:45.916923",
     "status": "completed"
    },
    "tags": []
   },
   "outputs": [],
   "source": [
    "tick_start = 0\n",
    "\n",
    "def tick():\n",
    "    global tick_start\n",
    "    tick_start = time.time()\n",
    "\n",
    "def tock():\n",
    "    print(f\"TOTAL TIME ELAPSED: {time.time() - tick_start:.2f}s\")\n",
    "\n",
    " \n",
    "def text_gen(prompt, debug = False):\n",
    "    input = convert_message_to_prompt(prompt)\n",
    "    if debug:\n",
    "        print(f'User input: {input}')\n",
    "    output = gemma_lm.generate(input, max_length=token_limit)\n",
    "    if debug:\n",
    "        print(\"\\nGemma output:\")\n",
    "        print(output)\n",
    "    return output\n"
   ]
  },
  {
   "cell_type": "markdown",
   "id": "52974dc3-45a6-41d7-8be2-46e4f2b98b4b",
   "metadata": {},
   "source": [
    "### Example of Model Inference Prompting "
   ]
  },
  {
   "cell_type": "code",
   "execution_count": 9,
   "id": "41e2d05b",
   "metadata": {
    "execution": {
     "iopub.execute_input": "2024-12-27T20:03:45.948097Z",
     "iopub.status.busy": "2024-12-27T20:03:45.947821Z",
     "iopub.status.idle": "2024-12-27T20:04:09.767579Z",
     "shell.execute_reply": "2024-12-27T20:04:09.766498Z"
    },
    "papermill": {
     "duration": 23.830014,
     "end_time": "2024-12-27T20:04:09.769432",
     "exception": false,
     "start_time": "2024-12-27T20:03:45.939418",
     "status": "completed"
    },
    "tags": []
   },
   "outputs": [
    {
     "name": "stdout",
     "output_type": "stream",
     "text": [
      "User input: <start_of_turn>user\n",
      " Translate the sentence into hindi and only return the translation. Text :  'Highlight border color'<end_of_turn>\n",
      "<start_of_turn>model\n",
      "\n"
     ]
    },
    {
     "name": "stderr",
     "output_type": "stream",
     "text": [
      "WARNING: All log messages before absl::InitializeLog() is called are written to STDERR\n",
      "I0000 00:00:1735329835.972142      23 service.cc:145] XLA service 0x56731300cae0 initialized for platform CUDA (this does not guarantee that XLA will be used). Devices:\n",
      "I0000 00:00:1735329835.972205      23 service.cc:153]   StreamExecutor device (0): Tesla P100-PCIE-16GB, Compute Capability 6.0\n",
      "I0000 00:00:1735329849.244335      23 device_compiler.h:188] Compiled cluster using XLA!  This line is logged at most once for the lifetime of the process.\n"
     ]
    },
    {
     "name": "stdout",
     "output_type": "stream",
     "text": [
      "\n",
      "Gemma output:\n",
      "<start_of_turn>user\n",
      " Translate the sentence into hindi and only return the translation. Text :  'Highlight border color'<end_of_turn>\n",
      "<start_of_turn>model\n",
      "बर्गर रेखा रंग \n",
      "<end_of_turn>\n",
      "TOTAL TIME ELAPSED: 23.82s\n"
     ]
    }
   ],
   "source": [
    "# inference before fine-tuning\n",
    "tick()\n",
    "txt = text_gen(\"'Highlight border color'\", debug = True)\n",
    "tock()"
   ]
  },
  {
   "cell_type": "code",
   "execution_count": 10,
   "id": "959d68ae",
   "metadata": {
    "execution": {
     "iopub.execute_input": "2024-12-27T20:04:09.786876Z",
     "iopub.status.busy": "2024-12-27T20:04:09.786471Z",
     "iopub.status.idle": "2024-12-27T20:04:09.792626Z",
     "shell.execute_reply": "2024-12-27T20:04:09.791811Z"
    },
    "papermill": {
     "duration": 0.016532,
     "end_time": "2024-12-27T20:04:09.794202",
     "exception": false,
     "start_time": "2024-12-27T20:04:09.777670",
     "status": "completed"
    },
    "tags": []
   },
   "outputs": [
    {
     "data": {
      "text/plain": [
       "array([{'en': 'Highlight border color', 'hi': 'सीमांत (बोर्डर) के रंग को हाइलाइट करें'}],\n",
       "      dtype=object)"
      ]
     },
     "execution_count": 10,
     "metadata": {},
     "output_type": "execute_result"
    }
   ],
   "source": [
    "## Original translation\n",
    "train.iloc[7,:].values"
   ]
  },
  {
   "cell_type": "markdown",
   "id": "696fbb27-d83a-4340-862b-92bcc4dbaf22",
   "metadata": {},
   "source": [
    "From the above translation, we see that Gemma is able to translate parts of the sentence and generates some close meaning words रेखा for border and and रंग for color. But overall the translated sentence loses its meaning. We try to improve this by fine-tuning the model."
   ]
  },
  {
   "cell_type": "markdown",
   "id": "3c9383d2",
   "metadata": {
    "papermill": {
     "duration": 0.007526,
     "end_time": "2024-12-27T20:04:09.809318",
     "exception": false,
     "start_time": "2024-12-27T20:04:09.801792",
     "status": "completed"
    },
    "tags": []
   },
   "source": [
    "## 4. Evaluating base model - blue score"
   ]
  },
  {
   "cell_type": "code",
   "execution_count": 11,
   "id": "46f3b2c4",
   "metadata": {
    "execution": {
     "iopub.execute_input": "2024-12-27T20:04:09.825363Z",
     "iopub.status.busy": "2024-12-27T20:04:09.825088Z",
     "iopub.status.idle": "2024-12-27T20:04:09.889479Z",
     "shell.execute_reply": "2024-12-27T20:04:09.888469Z"
    },
    "papermill": {
     "duration": 0.074384,
     "end_time": "2024-12-27T20:04:09.891129",
     "exception": false,
     "start_time": "2024-12-27T20:04:09.816745",
     "status": "completed"
    },
    "tags": []
   },
   "outputs": [
    {
     "name": "stdout",
     "output_type": "stream",
     "text": [
      "(100, 1)\n"
     ]
    },
    {
     "data": {
      "text/html": [
       "<div>\n",
       "<style scoped>\n",
       "    .dataframe tbody tr th:only-of-type {\n",
       "        vertical-align: middle;\n",
       "    }\n",
       "\n",
       "    .dataframe tbody tr th {\n",
       "        vertical-align: top;\n",
       "    }\n",
       "\n",
       "    .dataframe thead th {\n",
       "        text-align: right;\n",
       "    }\n",
       "</style>\n",
       "<table border=\"1\" class=\"dataframe\">\n",
       "  <thead>\n",
       "    <tr style=\"text-align: right;\">\n",
       "      <th></th>\n",
       "      <th>translation</th>\n",
       "      <th>english</th>\n",
       "      <th>hindi</th>\n",
       "    </tr>\n",
       "  </thead>\n",
       "  <tbody>\n",
       "    <tr>\n",
       "      <th>2121</th>\n",
       "      <td>{'en': 'Due to financial constraints Dhirubhai...</td>\n",
       "      <td>Due to financial constraints Dhirubhai had to ...</td>\n",
       "      <td>आर्थिक तंगी के कारण धीरूभाई को हाईस्कूल के बाद...</td>\n",
       "    </tr>\n",
       "    <tr>\n",
       "      <th>56</th>\n",
       "      <td>{'en': 'Or they can choose not to have a devic...</td>\n",
       "      <td>Or they can choose not to have a device at all...</td>\n",
       "      <td>या फिर से कोई भी डिवाइस न लेना चुन सकते हैं, ब...</td>\n",
       "    </tr>\n",
       "    <tr>\n",
       "      <th>2479</th>\n",
       "      <td>{'en': 'However, following the recent murder o...</td>\n",
       "      <td>However, following the recent murder of Austra...</td>\n",
       "      <td>वैसे हाल ही में फुकेट में ऑस्ट्रेलियाई ट्रैवेल...</td>\n",
       "    </tr>\n",
       "    <tr>\n",
       "      <th>1292</th>\n",
       "      <td>{'en': 'Delta and JetBlue were among the airli...</td>\n",
       "      <td>Delta and JetBlue were among the airliners who...</td>\n",
       "      <td>डेल्टा और जेटब्लू उन एयरलाइन्स में से हैं, जिन...</td>\n",
       "    </tr>\n",
       "    <tr>\n",
       "      <th>1599</th>\n",
       "      <td>{'en': 'It was simply nothing I could have ima...</td>\n",
       "      <td>It was simply nothing I could have imagined.</td>\n",
       "      <td>सरल तौर कहें तो में इसमें से किसी भी कल्पना भी...</td>\n",
       "    </tr>\n",
       "  </tbody>\n",
       "</table>\n",
       "</div>"
      ],
      "text/plain": [
       "                                            translation  \\\n",
       "2121  {'en': 'Due to financial constraints Dhirubhai...   \n",
       "56    {'en': 'Or they can choose not to have a devic...   \n",
       "2479  {'en': 'However, following the recent murder o...   \n",
       "1292  {'en': 'Delta and JetBlue were among the airli...   \n",
       "1599  {'en': 'It was simply nothing I could have ima...   \n",
       "\n",
       "                                                english  \\\n",
       "2121  Due to financial constraints Dhirubhai had to ...   \n",
       "56    Or they can choose not to have a device at all...   \n",
       "2479  However, following the recent murder of Austra...   \n",
       "1292  Delta and JetBlue were among the airliners who...   \n",
       "1599       It was simply nothing I could have imagined.   \n",
       "\n",
       "                                                  hindi  \n",
       "2121  आर्थिक तंगी के कारण धीरूभाई को हाईस्कूल के बाद...  \n",
       "56    या फिर से कोई भी डिवाइस न लेना चुन सकते हैं, ब...  \n",
       "2479  वैसे हाल ही में फुकेट में ऑस्ट्रेलियाई ट्रैवेल...  \n",
       "1292  डेल्टा और जेटब्लू उन एयरलाइन्स में से हैं, जिन...  \n",
       "1599  सरल तौर कहें तो में इसमें से किसी भी कल्पना भी...  "
      ]
     },
     "execution_count": 11,
     "metadata": {},
     "output_type": "execute_result"
    }
   ],
   "source": [
    "test_sample = test.sample(100, random_state=42)\n",
    "train_sample = train.sample(100, random_state=42)\n",
    "print(test_sample.shape)\n",
    "test_sample[\"english\"] = test_sample.translation.apply(lambda x: x.get(\"en\"))\n",
    "test_sample[\"hindi\"] = test_sample.translation.apply(lambda x: x.get(\"hi\"))\n",
    "\n",
    "train_sample[\"english\"] = train_sample.translation.apply(lambda x: x.get(\"en\"))\n",
    "train_sample[\"hindi\"] = train_sample.translation.apply(lambda x: x.get(\"hi\"))\n",
    "test_sample.head()"
   ]
  },
  {
   "cell_type": "markdown",
   "id": "393ec09c",
   "metadata": {
    "papermill": {
     "duration": 0.007789,
     "end_time": "2024-12-27T20:04:09.906987",
     "exception": false,
     "start_time": "2024-12-27T20:04:09.899198",
     "status": "completed"
    },
    "tags": []
   },
   "source": [
    "### Model inference for test sample"
   ]
  },
  {
   "cell_type": "code",
   "execution_count": 12,
   "id": "862e2631",
   "metadata": {
    "execution": {
     "iopub.execute_input": "2024-12-27T20:04:09.924019Z",
     "iopub.status.busy": "2024-12-27T20:04:09.923431Z",
     "iopub.status.idle": "2024-12-27T20:08:36.945943Z",
     "shell.execute_reply": "2024-12-27T20:08:36.944918Z"
    },
    "papermill": {
     "duration": 267.04128,
     "end_time": "2024-12-27T20:08:36.955997",
     "exception": false,
     "start_time": "2024-12-27T20:04:09.914717",
     "status": "completed"
    },
    "tags": []
   },
   "outputs": [
    {
     "name": "stdout",
     "output_type": "stream",
     "text": [
      "TOTAL TIME ELAPSED: 150.47s\n",
      "TOTAL TIME ELAPSED: 116.54s\n"
     ]
    }
   ],
   "source": [
    "tick()\n",
    "test_sample[\"predictions_woft\"] = test_sample.english.apply(\n",
    "    lambda text: text_gen(f\"{text}\")\n",
    ")\n",
    "tock()\n",
    "\n",
    "tick()\n",
    "train_sample[\"predictions_woft\"] = train_sample.english.apply(\n",
    "    lambda text: text_gen(f\"{text}\")\n",
    ")\n",
    "tock()"
   ]
  },
  {
   "cell_type": "code",
   "execution_count": 13,
   "id": "ea6d9436",
   "metadata": {
    "execution": {
     "iopub.execute_input": "2024-12-27T20:08:36.973914Z",
     "iopub.status.busy": "2024-12-27T20:08:36.973192Z",
     "iopub.status.idle": "2024-12-27T20:08:36.989737Z",
     "shell.execute_reply": "2024-12-27T20:08:36.988865Z"
    },
    "papermill": {
     "duration": 0.027525,
     "end_time": "2024-12-27T20:08:36.991519",
     "exception": false,
     "start_time": "2024-12-27T20:08:36.963994",
     "status": "completed"
    },
    "tags": []
   },
   "outputs": [
    {
     "data": {
      "text/html": [
       "<div>\n",
       "<style scoped>\n",
       "    .dataframe tbody tr th:only-of-type {\n",
       "        vertical-align: middle;\n",
       "    }\n",
       "\n",
       "    .dataframe tbody tr th {\n",
       "        vertical-align: top;\n",
       "    }\n",
       "\n",
       "    .dataframe thead th {\n",
       "        text-align: right;\n",
       "    }\n",
       "</style>\n",
       "<table border=\"1\" class=\"dataframe\">\n",
       "  <thead>\n",
       "    <tr style=\"text-align: right;\">\n",
       "      <th></th>\n",
       "      <th>translation</th>\n",
       "      <th>english</th>\n",
       "      <th>hindi</th>\n",
       "      <th>predictions_woft</th>\n",
       "      <th>predictions_woft_clean</th>\n",
       "    </tr>\n",
       "  </thead>\n",
       "  <tbody>\n",
       "    <tr>\n",
       "      <th>2121</th>\n",
       "      <td>{'en': 'Due to financial constraints Dhirubhai...</td>\n",
       "      <td>Due to financial constraints Dhirubhai had to ...</td>\n",
       "      <td>आर्थिक तंगी के कारण धीरूभाई को हाईस्कूल के बाद...</td>\n",
       "      <td>&lt;start_of_turn&gt;user\\n Translate the sentence i...</td>\n",
       "      <td>धन कमी के कारण दिरुभाई ने हाई स्कूल छोड़ दिया।</td>\n",
       "    </tr>\n",
       "    <tr>\n",
       "      <th>56</th>\n",
       "      <td>{'en': 'Or they can choose not to have a devic...</td>\n",
       "      <td>Or they can choose not to have a device at all...</td>\n",
       "      <td>या फिर से कोई भी डिवाइस न लेना चुन सकते हैं, ब...</td>\n",
       "      <td>&lt;start_of_turn&gt;user\\n Translate the sentence i...</td>\n",
       "      <td>या वे कोई भी डिवाइस नहीं रखना चाह सकते हैं, इस...</td>\n",
       "    </tr>\n",
       "    <tr>\n",
       "      <th>2479</th>\n",
       "      <td>{'en': 'However, following the recent murder o...</td>\n",
       "      <td>However, following the recent murder of Austra...</td>\n",
       "      <td>वैसे हाल ही में फुकेट में ऑस्ट्रेलियाई ट्रैवेल...</td>\n",
       "      <td>&lt;start_of_turn&gt;user\\n Translate the sentence i...</td>\n",
       "      <td>हालांकि, पट्टू मशहूर यात्रा एजेंट मिशेल स्मिथ ...</td>\n",
       "    </tr>\n",
       "    <tr>\n",
       "      <th>1292</th>\n",
       "      <td>{'en': 'Delta and JetBlue were among the airli...</td>\n",
       "      <td>Delta and JetBlue were among the airliners who...</td>\n",
       "      <td>डेल्टा और जेटब्लू उन एयरलाइन्स में से हैं, जिन...</td>\n",
       "      <td>&lt;start_of_turn&gt;user\\n Translate the sentence i...</td>\n",
       "      <td>डेल्टा और जेटब्लू पहले ही प्लान भेज चुके हैं।</td>\n",
       "    </tr>\n",
       "    <tr>\n",
       "      <th>1599</th>\n",
       "      <td>{'en': 'It was simply nothing I could have ima...</td>\n",
       "      <td>It was simply nothing I could have imagined.</td>\n",
       "      <td>सरल तौर कहें तो में इसमें से किसी भी कल्पना भी...</td>\n",
       "      <td>&lt;start_of_turn&gt;user\\n Translate the sentence i...</td>\n",
       "      <td>यह बस मेरे दिमाग में कल्पना कर पाने योग्य कुछ ...</td>\n",
       "    </tr>\n",
       "  </tbody>\n",
       "</table>\n",
       "</div>"
      ],
      "text/plain": [
       "                                            translation  \\\n",
       "2121  {'en': 'Due to financial constraints Dhirubhai...   \n",
       "56    {'en': 'Or they can choose not to have a devic...   \n",
       "2479  {'en': 'However, following the recent murder o...   \n",
       "1292  {'en': 'Delta and JetBlue were among the airli...   \n",
       "1599  {'en': 'It was simply nothing I could have ima...   \n",
       "\n",
       "                                                english  \\\n",
       "2121  Due to financial constraints Dhirubhai had to ...   \n",
       "56    Or they can choose not to have a device at all...   \n",
       "2479  However, following the recent murder of Austra...   \n",
       "1292  Delta and JetBlue were among the airliners who...   \n",
       "1599       It was simply nothing I could have imagined.   \n",
       "\n",
       "                                                  hindi  \\\n",
       "2121  आर्थिक तंगी के कारण धीरूभाई को हाईस्कूल के बाद...   \n",
       "56    या फिर से कोई भी डिवाइस न लेना चुन सकते हैं, ब...   \n",
       "2479  वैसे हाल ही में फुकेट में ऑस्ट्रेलियाई ट्रैवेल...   \n",
       "1292  डेल्टा और जेटब्लू उन एयरलाइन्स में से हैं, जिन...   \n",
       "1599  सरल तौर कहें तो में इसमें से किसी भी कल्पना भी...   \n",
       "\n",
       "                                       predictions_woft  \\\n",
       "2121  <start_of_turn>user\\n Translate the sentence i...   \n",
       "56    <start_of_turn>user\\n Translate the sentence i...   \n",
       "2479  <start_of_turn>user\\n Translate the sentence i...   \n",
       "1292  <start_of_turn>user\\n Translate the sentence i...   \n",
       "1599  <start_of_turn>user\\n Translate the sentence i...   \n",
       "\n",
       "                                 predictions_woft_clean  \n",
       "2121    धन कमी के कारण दिरुभाई ने हाई स्कूल छोड़ दिया।   \n",
       "56    या वे कोई भी डिवाइस नहीं रखना चाह सकते हैं, इस...  \n",
       "2479  हालांकि, पट्टू मशहूर यात्रा एजेंट मिशेल स्मिथ ...  \n",
       "1292     डेल्टा और जेटब्लू पहले ही प्लान भेज चुके हैं।   \n",
       "1599  यह बस मेरे दिमाग में कल्पना कर पाने योग्य कुछ ...  "
      ]
     },
     "execution_count": 13,
     "metadata": {},
     "output_type": "execute_result"
    }
   ],
   "source": [
    "test_sample[\"predictions_woft_clean\"] = test_sample.predictions_woft.apply(\n",
    "    lambda text: clean_model_output(text)\n",
    ")\n",
    "train_sample[\"predictions_woft_clean\"] = train_sample.predictions_woft.apply(\n",
    "    lambda text: clean_model_output(text)\n",
    ")\n",
    "test_sample.head()"
   ]
  },
  {
   "cell_type": "code",
   "execution_count": 14,
   "id": "8e768451",
   "metadata": {
    "execution": {
     "iopub.execute_input": "2024-12-27T20:08:37.009094Z",
     "iopub.status.busy": "2024-12-27T20:08:37.008832Z",
     "iopub.status.idle": "2024-12-27T20:08:37.017531Z",
     "shell.execute_reply": "2024-12-27T20:08:37.016634Z"
    },
    "papermill": {
     "duration": 0.019376,
     "end_time": "2024-12-27T20:08:37.019177",
     "exception": false,
     "start_time": "2024-12-27T20:08:36.999801",
     "status": "completed"
    },
    "tags": []
   },
   "outputs": [
    {
     "data": {
      "text/plain": [
       "hindi                     आर्थिक तंगी के कारण धीरूभाई को हाईस्कूल के बाद...\n",
       "predictions_woft_clean      धन कमी के कारण दिरुभाई ने हाई स्कूल छोड़ दिया। \n",
       "Name: 2121, dtype: object"
      ]
     },
     "execution_count": 14,
     "metadata": {},
     "output_type": "execute_result"
    }
   ],
   "source": [
    "test_sample.iloc[0,:][['hindi', 'predictions_woft_clean']]"
   ]
  },
  {
   "cell_type": "code",
   "execution_count": 15,
   "id": "b104e016",
   "metadata": {
    "execution": {
     "iopub.execute_input": "2024-12-27T20:08:37.036544Z",
     "iopub.status.busy": "2024-12-27T20:08:37.036292Z",
     "iopub.status.idle": "2024-12-27T20:08:37.149443Z",
     "shell.execute_reply": "2024-12-27T20:08:37.148508Z"
    },
    "papermill": {
     "duration": 0.123852,
     "end_time": "2024-12-27T20:08:37.151232",
     "exception": false,
     "start_time": "2024-12-27T20:08:37.027380",
     "status": "completed"
    },
    "tags": []
   },
   "outputs": [
    {
     "name": "stdout",
     "output_type": "stream",
     "text": [
      "Average BLEU Score: 0.34\n",
      "Average BLEU Score: 0.32\n"
     ]
    }
   ],
   "source": [
    "test_sample[\"BLEU_Score\"] = test_sample[\n",
    "    [\"hindi\", \"predictions_woft_clean\"]\n",
    "].apply(\n",
    "    lambda inputs: calculate_bleu_score(inputs[0], inputs[1]), axis=1\n",
    ")\n",
    "train_sample[\"BLEU_Score\"] = train_sample[\n",
    "    [\"hindi\", \"predictions_woft_clean\"]\n",
    "].apply(\n",
    "    lambda inputs: calculate_bleu_score(inputs[0], inputs[1]), axis=1\n",
    ")\n",
    "print(f\"Average BLEU Score: {test_sample['BLEU_Score'].mean().round(2)}\")\n",
    "print(f\"Average BLEU Score: {train_sample['BLEU_Score'].mean().round(2)}\")"
   ]
  },
  {
   "cell_type": "markdown",
   "id": "49497361",
   "metadata": {
    "papermill": {
     "duration": 0.007881,
     "end_time": "2024-12-27T20:08:37.167794",
     "exception": false,
     "start_time": "2024-12-27T20:08:37.159913",
     "status": "completed"
    },
    "tags": []
   },
   "source": [
    "### BLEU Score Interpretation \n",
    "\n",
    "The BLEU (Bilingual Evaluation Understudy) score is a metric used to evaluate the quality of machine-translated text by comparing it to one or more reference translations. The score ranges from 0 to 1, with 1 indicating a perfect match between the machine translation and the reference translation(s).\n",
    "\n",
    "What Does a BLEU Score of 0.33 Mean?\n",
    "A BLEU score of 0.33 (or 33) means that the machine translation has a moderate level of overlap with the reference translation(s). This score indicates that approximately one-third of the n-grams (contiguous sequences of words) in the machine-translated text match those in the reference translation(s).\n"
   ]
  },
  {
   "cell_type": "code",
   "execution_count": 16,
   "id": "dbb55bd0",
   "metadata": {
    "execution": {
     "iopub.execute_input": "2024-12-27T20:08:37.184949Z",
     "iopub.status.busy": "2024-12-27T20:08:37.184645Z",
     "iopub.status.idle": "2024-12-27T20:08:37.191044Z",
     "shell.execute_reply": "2024-12-27T20:08:37.190177Z"
    },
    "papermill": {
     "duration": 0.016763,
     "end_time": "2024-12-27T20:08:37.192592",
     "exception": false,
     "start_time": "2024-12-27T20:08:37.175829",
     "status": "completed"
    },
    "tags": []
   },
   "outputs": [
    {
     "name": "stdout",
     "output_type": "stream",
     "text": [
      "BLEU score: 0.6257106818159155\n"
     ]
    }
   ],
   "source": [
    "bleu_score = calculate_bleu_score(\n",
    "    test_sample.hindi[1599], test_sample.predictions_woft_clean[1599]\n",
    ")\n",
    "print(f\"BLEU score: {bleu_score}\")"
   ]
  },
  {
   "cell_type": "markdown",
   "id": "e786b6c3",
   "metadata": {
    "papermill": {
     "duration": 0.007969,
     "end_time": "2024-12-27T20:08:37.209023",
     "exception": false,
     "start_time": "2024-12-27T20:08:37.201054",
     "status": "completed"
    },
    "tags": []
   },
   "source": [
    "## 5. Fine Tune Model \n",
    "\n",
    "\n",
    "What is fine-tuning?\n",
    "Pre-trained LLM models are good for general tasks. For using these models to specific tasks, english to hindi translation in our case,  we need to adapt LLM (Gemma 2b here) to the specific tasks. Fine-tuning is one such technique, where we update the model parameters using specific dataset (CFILT). \n",
    "The original Gemma 2 model is trained primarily using English, hence its vocabulary has limited tokens from other languages. As a result, though model is able to understand and translate sentences from other languages (like Hindi) to a resonable extent,  frequent hallucinations and mixing of English content would render the usability of the model limited. Our goal is to fine-tune this model using a Hindi-English translation dataset to improve the performance of this model in language translation task. LLM's have a lot of parameters, in our case 2 billion parameters, updating all of these would require a lot of time and compute resources. To get around this we only update only few of the parameters while fine-tuning. Parameter-efficient Fine-tuning (PEFT) is a technique, which involves freezing some of the pre-trained model's parameters and fine-tuning the last few layers or adding additional layers for specific task.\n",
    "\n",
    "We make use of a PEFT fine-tuning technique known as LoRA. Low-Rank Adaptation (LoRA) (Microsoft, 2022) is a technique used to fine-tune LLMs. This technique greatly reduces the number of trainable parameters for downstream tasks by freezing the weights of the model and inserting a smaller number of new weights into the model. LoRA fine-tuning is a faster and memory-efficient  process, and produces smaller model weights (a few hundred MBs), all while maintaining the quality of the model outputs. \n",
    "\n",
    "LoRA is related to principal component analysis or singular vector decomposition, where we approximate a high-dimensional matrix or dataset using a lower-dimensional representation. In this we decompose the weight changes, ΔW, into a lower-rank representation (we learn the decomposed matrices via backpropagation). During regular fine-tuning we update the matrix of weights entirely. Let W be the original weight matrix, and del(W) represent the weight updates. Then after fine-tuning the new weights W' = W + del(W). Aghajanyan, A et. al. in their paper argue that while matrix of a pre-trained model has a full rank (no redundant rows or columns), the weight matrix has a low intrinsic dimension when the model is adapted to a new task. This means the weights can be effectively represented or approximated by a low-dimension matrix while retaining most of its essential information or structure while fine-tuning. How this works in practice is we train two smaller matrices A and B such that our update matrix del(W) - A.B. Using the above notations, suppose our weight matrix has dimension (MxN), del(W) will also have the same dimension (AxB). We keep the original W matrix frozen and train two new matrices A and B, with dimensions Mxr and rxN, where r is parameter we specify. This reduces our number of trained parameter from MxN to (Mxr + rxN).\n",
    "\n",
    "$$ W \\approx A \\times B $$\n",
    "$$ where, W \\in \\mathbb{R}^{M \\times N},  \n",
    "A \\in \\mathbb{R}^{M \\times r}, and \n",
    "B \\in \\mathbb{R}^{r \\times N} \n",
    "$$\n",
    "\n",
    "![Alt Text](lora.jpeg)\n",
    "\n",
    "Numerical example: Suppose M is 100 and N is 200. W has dimensions (100x200). Under normal fine tuning del(W) will require us to update 20,000 parameters. Using LoRA with rank r = 5, we will learn two new matrices A with dimensions 100x5 and B with dimensions 5x200. This will reduce the number of parameters learned during fine-tuning to 500+1000 = 1500. \n",
    "\n",
    "Note: \n",
    "A full rank matrix is a matrix whose rank = min(n_row, n_columns). None of its rows or columns can be represented as a linear combination of its other rows or columns.\n",
    "Low rank matrix is one whose rows or columns can be represented as a linear combination of its other rows or columns. It stores redundant information.\n",
    "\n",
    "Thus, LoRA us to fine-tune a model faster by training two new smaller matrices without losing much information. Hu et al. provide an empirical comparison of LoRA finetuned and full-tuned models to show that LoRA fine-tuning achieves comparable performance. We enable Low-Rank Adaptation (LoRA) on the model's backbone with a specified rank using keras nlp API. The parameter r (rank) dictates the dimensions of the low-rank adaptation when factorizing weight matrices, thereby determining the size of the low-rank matrices. Consequently, rank significantly affects the number of trainable parameters (refer to the image). Larger rank values allow for a more precise approximation of the full model weights, enhancing accuracy. However, they also require more computational power and memory, leading to slower performance and a higher risk of overfitting. Conversely, smaller rank values prioritize efficient training at the expense of some performance. Commonly recommended values include [8, 16, 32, 64, 128, 256].\n",
    "\n",
    "For now, we are only tuning the parameter rank (r) in our LoRA adapter. \n",
    "\n",
    "In our case, using LoRA reduces trainable parameters from 2,628,985,088 (9.79 GB) to 14,643,200 (55.86 MB).\n",
    "\n",
    "References:\n",
    "1. Aghajanyan, A., Zettlemoyer, L., & Gupta, S. (2020). Intrinsic dimensionality explains the effectiveness of language model fine-tuning. arXiv preprint arXiv:2012.13255.\n",
    "2. Hu, E. J., Shen, Y., Wallis, P., Allen-Zhu, Z., Li, Y., Wang, S., Wang, L., & Chen, W. (2021). LoRA: Low-Rank Adaptation of Large Language Models. arXiv preprint arXiv:2106.09685."
   ]
  },
  {
   "cell_type": "markdown",
   "id": "05e8d3c3-c2ab-47a2-9928-c6ff073b9b12",
   "metadata": {},
   "source": [
    "### Preparing the dataset\n",
    "\n",
    "Control tokens in Gemma models: Below is the structure of prompt that is used by Gemma 2 models. <start_of_turn> and <end_of_turn> are the control tokens used in its prompts. See below for example.\n",
    "\n",
    "```\n",
    "User: \\<start_of_turn>userKnock knock.\\<end_of_turn>\n",
    "\\<start_of_turn>model Model:\tWho’s there?\\<end_of_turn>\n",
    "User:\t\\<start_of_turn>userGemma.\\<end_of_turn>\n",
    "<start_of_turn>modelModel:\tGemma who?\\<end_of_turn>\n",
    "```\n",
    "\n"
   ]
  },
  {
   "cell_type": "code",
   "execution_count": 17,
   "id": "28da7ec4",
   "metadata": {
    "execution": {
     "iopub.execute_input": "2024-12-27T20:08:37.242337Z",
     "iopub.status.busy": "2024-12-27T20:08:37.242063Z",
     "iopub.status.idle": "2024-12-27T20:08:37.245961Z",
     "shell.execute_reply": "2024-12-27T20:08:37.245152Z"
    },
    "papermill": {
     "duration": 0.014361,
     "end_time": "2024-12-27T20:08:37.247510",
     "exception": false,
     "start_time": "2024-12-27T20:08:37.233149",
     "status": "completed"
    },
    "tags": []
   },
   "outputs": [],
   "source": [
    "def get_prompt(col1, col2):\n",
    "    return f\"\"\"<start_of_turn>user\\n Translate the sentence into hindi and only return the translation. Text : {col1}<end_of_turn>\\n\n",
    "           <start_of_turn>model\\n{col2}<end_of_turn>\"\"\""
   ]
  },
  {
   "cell_type": "code",
   "execution_count": null,
   "id": "3268ecd5",
   "metadata": {
    "papermill": {
     "duration": 6.004163,
     "end_time": "2024-12-27T20:08:43.259818",
     "exception": false,
     "start_time": "2024-12-27T20:08:37.255655",
     "status": "completed"
    },
    "tags": []
   },
   "outputs": [],
   "source": [
    "\n",
    "tokenizer = keras_nlp.models.GemmaTokenizer.from_preset(model_id)\n",
    "\n",
    "train[\"english\"] = train.translation.apply(lambda x: x.get(\"en\"))\n",
    "train[\"hindi\"] = train.translation.apply(lambda x: x.get(\"hi\"))\n",
    "df_train = train.sample(n = 2000, random_state = 123)\n",
    "\n",
    "df_train['prompt'] = df_train.apply(lambda row: get_prompt(row['english'], row['hindi']), axis=1)\n",
    "df_train['len_prompt'] = df_train['prompt'].apply(lambda x: len(tokenizer(x)))\n",
    "\n",
    "df_train = df_train[df_train['len_prompt']<token_limit].copy(deep=True)\n",
    "                                                  \n",
    "train_list = df_train['prompt'].tolist()\n",
    "\n",
    "\n"
   ]
  },
  {
   "cell_type": "markdown",
   "id": "613aa9a5-8e2a-42ab-8e41-f8009d40d449",
   "metadata": {},
   "source": [
    "### Training \n",
    "**Hyperparameters** : \n",
    "1. learning_rate : manually tuned to 0.001. It determines how big a step do we take towards the minimum in each step. After each epoch we update the weights/parameters by quantity equal to -(learning_rate * gradient of loss function wrt to parameter). If the learning rate is too high, the model might converge too quickly to a suboptimal solution (or not converge at all). If the learning rate is too low, the training process will be slow, and it might get stuck in local minima.\n",
    "\n",
    "2. Lora rank : As described above, this tells us the size of new low-rank matrices that are learned during the fine-tuning. A large rank means more parameters will be learned. Manually tuned to 20.\n",
    "\n",
    "**Loss Function**: \n",
    "LLMs are trained to predict the next token or word in sentence/sequence based on previous tokens. For each word prediction, the input sequences are passed through the model. The model outputs a vector (sequence of logits) that have the same size as the model's vocabulary. Softmax function converts these to multiclass probability, which can be roughly interpreted as the probability of each token to be the predicted word. As a simple method, we can choose the token with the highest probability to be the predicted token. So, for example, if the model vocab has 7 tokens, for every token/work that the model predicts we get a vector with 7 probabilities representing how likely our model thinks that each token is for that prediction. Below picture (Rashcka, 2024) explains this :\n",
    "\n",
    "![Alt Text](multiclasslogits.png)\n",
    "\n",
    "\n",
    "Categorical cross-entropy loss function is used for training/fine-tuning the model. This is well suited for multi-class classification problems. In the code below we use Sparse categorical cross-entropy loss. Sparse categorical cross entropy makes use of integer labels, whereas categorical cross entropy requires one-hot encoding. The loss function is given as follows:\n",
    "$$\n",
    "L = - \\sum_{i=1}^{N} \\sum_{c=1}^{C} p_{i,c} \\log(\\hat{p}_{i,c})\n",
    "$$\n",
    "\n",
    "$L$: **Loss** - The categorical cross-entropy loss, which measures how well the model's predictions match the true labels. Lower values indicate better performance.\n",
    "\n",
    "- $ N $: **Number of Samples** - The total number of data samples (or instances) in the dataset.\n",
    "- $ C $: **Number of Classes** - The total number of classes or categories in the classification problem.\n",
    "- $p_{i,c}$: **Ground Truth Label** - A binary indicator (1 or 0) that represents whether the \\( i \\)-th sample belongs to class \\( c \\). If the sample belongs to class \\( c \\), $p_{i,c} = 1$ ; otherwise, $p_{i,c} = 0 $.\n",
    "- $\\hat{p}_{i,c}$: **Predicted Probability** - The probability predicted by the model that the \\( i \\)-th sample belongs to class \\( c \\). It is the output of the softmax function for the \\( i \\)-th sample and class \\( c \\).\n",
    "\n",
    "References: \n",
    "\n",
    "1. Sebastian Raschka. LLMs from scratch. https://github.com/rasbt/LLMs-from-scratch/blob/main/ch05/01_main-chapter-code/ch05.ipynb\n"
   ]
  },
  {
   "cell_type": "code",
   "execution_count": 19,
   "id": "9385490c",
   "metadata": {
    "execution": {
     "iopub.execute_input": "2024-12-27T20:08:43.278083Z",
     "iopub.status.busy": "2024-12-27T20:08:43.277819Z",
     "iopub.status.idle": "2024-12-27T20:08:43.281553Z",
     "shell.execute_reply": "2024-12-27T20:08:43.280835Z"
    },
    "papermill": {
     "duration": 0.014496,
     "end_time": "2024-12-27T20:08:43.283093",
     "exception": false,
     "start_time": "2024-12-27T20:08:43.268597",
     "status": "completed"
    },
    "tags": []
   },
   "outputs": [],
   "source": [
    "\n",
    "# Training Configurations\n",
    "\n",
    "lora_name = \"llm_mark1\"\n",
    "lora_rank = 20\n",
    "lr_value = 0.001\n",
    "train_epoch = 20\n"
   ]
  },
  {
   "cell_type": "code",
   "execution_count": 20,
   "id": "57bd90e8",
   "metadata": {
    "execution": {
     "iopub.execute_input": "2024-12-27T20:08:43.300937Z",
     "iopub.status.busy": "2024-12-27T20:08:43.300659Z",
     "iopub.status.idle": "2024-12-27T20:08:43.508727Z",
     "shell.execute_reply": "2024-12-27T20:08:43.507894Z"
    },
    "papermill": {
     "duration": 0.218975,
     "end_time": "2024-12-27T20:08:43.510406",
     "exception": false,
     "start_time": "2024-12-27T20:08:43.291431",
     "status": "completed"
    },
    "tags": []
   },
   "outputs": [
    {
     "data": {
      "text/html": [
       "<pre style=\"white-space:pre;overflow-x:auto;line-height:normal;font-family:Menlo,'DejaVu Sans Mono',consolas,'Courier New',monospace\"><span style=\"font-weight: bold\">Preprocessor: \"gemma_causal_lm_preprocessor\"</span>\n",
       "</pre>\n"
      ],
      "text/plain": [
       "\u001b[1mPreprocessor: \"gemma_causal_lm_preprocessor\"\u001b[0m\n"
      ]
     },
     "metadata": {},
     "output_type": "display_data"
    },
    {
     "data": {
      "text/html": [
       "<pre style=\"white-space:pre;overflow-x:auto;line-height:normal;font-family:Menlo,'DejaVu Sans Mono',consolas,'Courier New',monospace\">┏━━━━━━━━━━━━━━━━━━━━━━━━━━━━━━━━━━━━━━━━━━━━━━━━━━━━━━━━━━━━━━━┳━━━━━━━━━━━━━━━━━━━━━━━━━━━━━━━━━━━━━━━━━━┓\n",
       "┃<span style=\"font-weight: bold\"> Layer (type)                                                  </span>┃<span style=\"font-weight: bold\">                                   Config </span>┃\n",
       "┡━━━━━━━━━━━━━━━━━━━━━━━━━━━━━━━━━━━━━━━━━━━━━━━━━━━━━━━━━━━━━━━╇━━━━━━━━━━━━━━━━━━━━━━━━━━━━━━━━━━━━━━━━━━┩\n",
       "│ gemma_tokenizer (<span style=\"color: #0087ff; text-decoration-color: #0087ff\">GemmaTokenizer</span>)                              │                      Vocab size: <span style=\"color: #00af00; text-decoration-color: #00af00\">256,000</span> │\n",
       "└───────────────────────────────────────────────────────────────┴──────────────────────────────────────────┘\n",
       "</pre>\n"
      ],
      "text/plain": [
       "┏━━━━━━━━━━━━━━━━━━━━━━━━━━━━━━━━━━━━━━━━━━━━━━━━━━━━━━━━━━━━━━━┳━━━━━━━━━━━━━━━━━━━━━━━━━━━━━━━━━━━━━━━━━━┓\n",
       "┃\u001b[1m \u001b[0m\u001b[1mLayer (type)                                                 \u001b[0m\u001b[1m \u001b[0m┃\u001b[1m \u001b[0m\u001b[1m                                  Config\u001b[0m\u001b[1m \u001b[0m┃\n",
       "┡━━━━━━━━━━━━━━━━━━━━━━━━━━━━━━━━━━━━━━━━━━━━━━━━━━━━━━━━━━━━━━━╇━━━━━━━━━━━━━━━━━━━━━━━━━━━━━━━━━━━━━━━━━━┩\n",
       "│ gemma_tokenizer (\u001b[38;5;33mGemmaTokenizer\u001b[0m)                              │                      Vocab size: \u001b[38;5;34m256,000\u001b[0m │\n",
       "└───────────────────────────────────────────────────────────────┴──────────────────────────────────────────┘\n"
      ]
     },
     "metadata": {},
     "output_type": "display_data"
    },
    {
     "data": {
      "text/html": [
       "<pre style=\"white-space:pre;overflow-x:auto;line-height:normal;font-family:Menlo,'DejaVu Sans Mono',consolas,'Courier New',monospace\"><span style=\"font-weight: bold\">Model: \"gemma_causal_lm\"</span>\n",
       "</pre>\n"
      ],
      "text/plain": [
       "\u001b[1mModel: \"gemma_causal_lm\"\u001b[0m\n"
      ]
     },
     "metadata": {},
     "output_type": "display_data"
    },
    {
     "data": {
      "text/html": [
       "<pre style=\"white-space:pre;overflow-x:auto;line-height:normal;font-family:Menlo,'DejaVu Sans Mono',consolas,'Courier New',monospace\">┏━━━━━━━━━━━━━━━━━━━━━━━━━━━━━━━┳━━━━━━━━━━━━━━━━━━━━━━━━━━━┳━━━━━━━━━━━━━━━━━┳━━━━━━━━━━━━━━━━━━━━━━━━━━━━┓\n",
       "┃<span style=\"font-weight: bold\"> Layer (type)                  </span>┃<span style=\"font-weight: bold\"> Output Shape              </span>┃<span style=\"font-weight: bold\">         Param # </span>┃<span style=\"font-weight: bold\"> Connected to               </span>┃\n",
       "┡━━━━━━━━━━━━━━━━━━━━━━━━━━━━━━━╇━━━━━━━━━━━━━━━━━━━━━━━━━━━╇━━━━━━━━━━━━━━━━━╇━━━━━━━━━━━━━━━━━━━━━━━━━━━━┩\n",
       "│ padding_mask (<span style=\"color: #0087ff; text-decoration-color: #0087ff\">InputLayer</span>)     │ (<span style=\"color: #00d7ff; text-decoration-color: #00d7ff\">None</span>, <span style=\"color: #00d7ff; text-decoration-color: #00d7ff\">None</span>)              │               <span style=\"color: #00af00; text-decoration-color: #00af00\">0</span> │ -                          │\n",
       "├───────────────────────────────┼───────────────────────────┼─────────────────┼────────────────────────────┤\n",
       "│ token_ids (<span style=\"color: #0087ff; text-decoration-color: #0087ff\">InputLayer</span>)        │ (<span style=\"color: #00d7ff; text-decoration-color: #00d7ff\">None</span>, <span style=\"color: #00d7ff; text-decoration-color: #00d7ff\">None</span>)              │               <span style=\"color: #00af00; text-decoration-color: #00af00\">0</span> │ -                          │\n",
       "├───────────────────────────────┼───────────────────────────┼─────────────────┼────────────────────────────┤\n",
       "│ gemma_backbone                │ (<span style=\"color: #00d7ff; text-decoration-color: #00d7ff\">None</span>, <span style=\"color: #00d7ff; text-decoration-color: #00d7ff\">None</span>, <span style=\"color: #00af00; text-decoration-color: #00af00\">2304</span>)        │   <span style=\"color: #00af00; text-decoration-color: #00af00\">2,628,985,088</span> │ padding_mask[<span style=\"color: #00af00; text-decoration-color: #00af00\">0</span>][<span style=\"color: #00af00; text-decoration-color: #00af00\">0</span>],        │\n",
       "│ (<span style=\"color: #0087ff; text-decoration-color: #0087ff\">GemmaBackbone</span>)               │                           │                 │ token_ids[<span style=\"color: #00af00; text-decoration-color: #00af00\">0</span>][<span style=\"color: #00af00; text-decoration-color: #00af00\">0</span>]            │\n",
       "├───────────────────────────────┼───────────────────────────┼─────────────────┼────────────────────────────┤\n",
       "│ token_embedding               │ (<span style=\"color: #00d7ff; text-decoration-color: #00d7ff\">None</span>, <span style=\"color: #00d7ff; text-decoration-color: #00d7ff\">None</span>, <span style=\"color: #00af00; text-decoration-color: #00af00\">256000</span>)      │     <span style=\"color: #00af00; text-decoration-color: #00af00\">589,824,000</span> │ gemma_backbone[<span style=\"color: #00af00; text-decoration-color: #00af00\">0</span>][<span style=\"color: #00af00; text-decoration-color: #00af00\">0</span>]       │\n",
       "│ (<span style=\"color: #0087ff; text-decoration-color: #0087ff\">ReversibleEmbedding</span>)         │                           │                 │                            │\n",
       "└───────────────────────────────┴───────────────────────────┴─────────────────┴────────────────────────────┘\n",
       "</pre>\n"
      ],
      "text/plain": [
       "┏━━━━━━━━━━━━━━━━━━━━━━━━━━━━━━━┳━━━━━━━━━━━━━━━━━━━━━━━━━━━┳━━━━━━━━━━━━━━━━━┳━━━━━━━━━━━━━━━━━━━━━━━━━━━━┓\n",
       "┃\u001b[1m \u001b[0m\u001b[1mLayer (type)                 \u001b[0m\u001b[1m \u001b[0m┃\u001b[1m \u001b[0m\u001b[1mOutput Shape             \u001b[0m\u001b[1m \u001b[0m┃\u001b[1m \u001b[0m\u001b[1m        Param #\u001b[0m\u001b[1m \u001b[0m┃\u001b[1m \u001b[0m\u001b[1mConnected to              \u001b[0m\u001b[1m \u001b[0m┃\n",
       "┡━━━━━━━━━━━━━━━━━━━━━━━━━━━━━━━╇━━━━━━━━━━━━━━━━━━━━━━━━━━━╇━━━━━━━━━━━━━━━━━╇━━━━━━━━━━━━━━━━━━━━━━━━━━━━┩\n",
       "│ padding_mask (\u001b[38;5;33mInputLayer\u001b[0m)     │ (\u001b[38;5;45mNone\u001b[0m, \u001b[38;5;45mNone\u001b[0m)              │               \u001b[38;5;34m0\u001b[0m │ -                          │\n",
       "├───────────────────────────────┼───────────────────────────┼─────────────────┼────────────────────────────┤\n",
       "│ token_ids (\u001b[38;5;33mInputLayer\u001b[0m)        │ (\u001b[38;5;45mNone\u001b[0m, \u001b[38;5;45mNone\u001b[0m)              │               \u001b[38;5;34m0\u001b[0m │ -                          │\n",
       "├───────────────────────────────┼───────────────────────────┼─────────────────┼────────────────────────────┤\n",
       "│ gemma_backbone                │ (\u001b[38;5;45mNone\u001b[0m, \u001b[38;5;45mNone\u001b[0m, \u001b[38;5;34m2304\u001b[0m)        │   \u001b[38;5;34m2,628,985,088\u001b[0m │ padding_mask[\u001b[38;5;34m0\u001b[0m][\u001b[38;5;34m0\u001b[0m],        │\n",
       "│ (\u001b[38;5;33mGemmaBackbone\u001b[0m)               │                           │                 │ token_ids[\u001b[38;5;34m0\u001b[0m][\u001b[38;5;34m0\u001b[0m]            │\n",
       "├───────────────────────────────┼───────────────────────────┼─────────────────┼────────────────────────────┤\n",
       "│ token_embedding               │ (\u001b[38;5;45mNone\u001b[0m, \u001b[38;5;45mNone\u001b[0m, \u001b[38;5;34m256000\u001b[0m)      │     \u001b[38;5;34m589,824,000\u001b[0m │ gemma_backbone[\u001b[38;5;34m0\u001b[0m][\u001b[38;5;34m0\u001b[0m]       │\n",
       "│ (\u001b[38;5;33mReversibleEmbedding\u001b[0m)         │                           │                 │                            │\n",
       "└───────────────────────────────┴───────────────────────────┴─────────────────┴────────────────────────────┘\n"
      ]
     },
     "metadata": {},
     "output_type": "display_data"
    },
    {
     "data": {
      "text/html": [
       "<pre style=\"white-space:pre;overflow-x:auto;line-height:normal;font-family:Menlo,'DejaVu Sans Mono',consolas,'Courier New',monospace\"><span style=\"font-weight: bold\"> Total params: </span><span style=\"color: #00af00; text-decoration-color: #00af00\">2,628,985,088</span> (9.79 GB)\n",
       "</pre>\n"
      ],
      "text/plain": [
       "\u001b[1m Total params: \u001b[0m\u001b[38;5;34m2,628,985,088\u001b[0m (9.79 GB)\n"
      ]
     },
     "metadata": {},
     "output_type": "display_data"
    },
    {
     "data": {
      "text/html": [
       "<pre style=\"white-space:pre;overflow-x:auto;line-height:normal;font-family:Menlo,'DejaVu Sans Mono',consolas,'Courier New',monospace\"><span style=\"font-weight: bold\"> Trainable params: </span><span style=\"color: #00af00; text-decoration-color: #00af00\">14,643,200</span> (55.86 MB)\n",
       "</pre>\n"
      ],
      "text/plain": [
       "\u001b[1m Trainable params: \u001b[0m\u001b[38;5;34m14,643,200\u001b[0m (55.86 MB)\n"
      ]
     },
     "metadata": {},
     "output_type": "display_data"
    },
    {
     "data": {
      "text/html": [
       "<pre style=\"white-space:pre;overflow-x:auto;line-height:normal;font-family:Menlo,'DejaVu Sans Mono',consolas,'Courier New',monospace\"><span style=\"font-weight: bold\"> Non-trainable params: </span><span style=\"color: #00af00; text-decoration-color: #00af00\">2,614,341,888</span> (9.74 GB)\n",
       "</pre>\n"
      ],
      "text/plain": [
       "\u001b[1m Non-trainable params: \u001b[0m\u001b[38;5;34m2,614,341,888\u001b[0m (9.74 GB)\n"
      ]
     },
     "metadata": {},
     "output_type": "display_data"
    }
   ],
   "source": [
    "# Enable LoRA for the model and set the LoRA rank to 4.\n",
    "gemma_lm.backbone.enable_lora(rank=20)\n",
    "gemma_lm.summary()\n",
    "\n",
    "# Limit the input sequence length (to control memory usage).\n",
    "gemma_lm.preprocessor.sequence_length = token_limit\n",
    "# Use AdamW (a common optimizer for transformer models).\n",
    "optimizer = keras.optimizers.AdamW(\n",
    "    learning_rate=lr_value,\n",
    "    weight_decay=0.01,\n",
    ")\n",
    "# Exclude layernorm and bias terms from decay.\n",
    "optimizer.exclude_from_weight_decay(var_names=[\"bias\", \"scale\"])\n",
    "\n",
    "gemma_lm.compile(\n",
    "    loss=keras.losses.SparseCategoricalCrossentropy(from_logits=True),\n",
    "    optimizer=optimizer,\n",
    "    weighted_metrics=[keras.metrics.SparseCategoricalAccuracy()],\n",
    ")"
   ]
  },
  {
   "cell_type": "markdown",
   "id": "bf86615d",
   "metadata": {
    "papermill": {
     "duration": 0.008736,
     "end_time": "2024-12-27T20:08:43.528591",
     "exception": false,
     "start_time": "2024-12-27T20:08:43.519855",
     "status": "completed"
    },
    "tags": []
   },
   "source": [
    "Save LoRA for each epoch - we make use of a custom call back function to save LoRA weights after each epoch. \n"
   ]
  },
  {
   "cell_type": "code",
   "execution_count": 21,
   "id": "95d483ef",
   "metadata": {
    "execution": {
     "iopub.execute_input": "2024-12-27T20:08:43.547490Z",
     "iopub.status.busy": "2024-12-27T20:08:43.547205Z",
     "iopub.status.idle": "2024-12-28T00:52:11.140761Z",
     "shell.execute_reply": "2024-12-28T00:52:11.139976Z"
    },
    "papermill": {
     "duration": 17007.605151,
     "end_time": "2024-12-28T00:52:11.142581",
     "exception": false,
     "start_time": "2024-12-27T20:08:43.537430",
     "status": "completed"
    },
    "tags": []
   },
   "outputs": [
    {
     "name": "stdout",
     "output_type": "stream",
     "text": [
      "Epoch 1/20\n"
     ]
    },
    {
     "name": "stderr",
     "output_type": "stream",
     "text": [
      "W0000 00:00:1735330171.758835      88 assert_op.cc:38] Ignoring Assert operator compile_loss/sparse_categorical_crossentropy/SparseSoftmaxCrossEntropyWithLogits/assert_equal_1/Assert/Assert\n",
      "WARNING: All log messages before absl::InitializeLog() is called are written to STDERR\n",
      "I0000 00:00:1735330190.275494      88 asm_compiler.cc:369] ptxas warning : Registers are spilled to local memory in function 'loop_add_subtract_fusion_9', 440 bytes spill stores, 512 bytes spill loads\n",
      "ptxas warning : Registers are spilled to local memory in function '__cuda_sm3x_div_rn_noftz_f32_slowpath', 24 bytes spill stores, 24 bytes spill loads\n",
      "ptxas warning : Registers are spilled to local memory in function 'loop_add_subtract_fusion_7', 72 bytes spill stores, 120 bytes spill loads\n",
      "ptxas warning : Registers are spilled to local memory in function '__cuda_sm3x_div_rn_noftz_f32_slowpath', 12 bytes spill stores, 12 bytes spill loads\n",
      "ptxas warning : Registers are spilled to local memory in function 'loop_add_subtract_fusion_5', 440 bytes spill stores, 512 bytes spill loads\n",
      "ptxas warning : Registers are spilled to local memory in function '__cuda_sm3x_div_rn_noftz_f32_slowpath', 24 bytes spill stores, 24 bytes spill loads\n",
      "\n"
     ]
    },
    {
     "name": "stdout",
     "output_type": "stream",
     "text": [
      "\u001b[1m1985/1985\u001b[0m \u001b[32m━━━━━━━━━━━━━━━━━━━━\u001b[0m\u001b[37m\u001b[0m \u001b[1m914s\u001b[0m 427ms/step - loss: 0.5416 - sparse_categorical_accuracy: 0.6214\n",
      "Epoch 2/20\n",
      "\u001b[1m1985/1985\u001b[0m \u001b[32m━━━━━━━━━━━━━━━━━━━━\u001b[0m\u001b[37m\u001b[0m \u001b[1m847s\u001b[0m 427ms/step - loss: 0.5074 - sparse_categorical_accuracy: 0.6274\n",
      "Epoch 3/20\n",
      "\u001b[1m1985/1985\u001b[0m \u001b[32m━━━━━━━━━━━━━━━━━━━━\u001b[0m\u001b[37m\u001b[0m \u001b[1m848s\u001b[0m 427ms/step - loss: 0.4660 - sparse_categorical_accuracy: 0.6465\n",
      "Epoch 4/20\n",
      "\u001b[1m1985/1985\u001b[0m \u001b[32m━━━━━━━━━━━━━━━━━━━━\u001b[0m\u001b[37m\u001b[0m \u001b[1m847s\u001b[0m 427ms/step - loss: 0.4262 - sparse_categorical_accuracy: 0.6650\n",
      "Epoch 5/20\n",
      "\u001b[1m1985/1985\u001b[0m \u001b[32m━━━━━━━━━━━━━━━━━━━━\u001b[0m\u001b[37m\u001b[0m \u001b[1m847s\u001b[0m 427ms/step - loss: 0.3997 - sparse_categorical_accuracy: 0.6765\n",
      "Epoch 6/20\n",
      "\u001b[1m1985/1985\u001b[0m \u001b[32m━━━━━━━━━━━━━━━━━━━━\u001b[0m\u001b[37m\u001b[0m \u001b[1m847s\u001b[0m 427ms/step - loss: 0.3719 - sparse_categorical_accuracy: 0.6912\n",
      "Epoch 7/20\n",
      "\u001b[1m1985/1985\u001b[0m \u001b[32m━━━━━━━━━━━━━━━━━━━━\u001b[0m\u001b[37m\u001b[0m \u001b[1m847s\u001b[0m 427ms/step - loss: 0.3461 - sparse_categorical_accuracy: 0.7072\n",
      "Epoch 8/20\n",
      "\u001b[1m1985/1985\u001b[0m \u001b[32m━━━━━━━━━━━━━━━━━━━━\u001b[0m\u001b[37m\u001b[0m \u001b[1m847s\u001b[0m 427ms/step - loss: 0.3213 - sparse_categorical_accuracy: 0.7219\n",
      "Epoch 9/20\n",
      "\u001b[1m1985/1985\u001b[0m \u001b[32m━━━━━━━━━━━━━━━━━━━━\u001b[0m\u001b[37m\u001b[0m \u001b[1m847s\u001b[0m 427ms/step - loss: 0.3005 - sparse_categorical_accuracy: 0.7361\n",
      "Epoch 10/20\n",
      "\u001b[1m1985/1985\u001b[0m \u001b[32m━━━━━━━━━━━━━━━━━━━━\u001b[0m\u001b[37m\u001b[0m \u001b[1m847s\u001b[0m 427ms/step - loss: 0.2826 - sparse_categorical_accuracy: 0.7494\n",
      "Epoch 11/20\n",
      "\u001b[1m1985/1985\u001b[0m \u001b[32m━━━━━━━━━━━━━━━━━━━━\u001b[0m\u001b[37m\u001b[0m \u001b[1m847s\u001b[0m 427ms/step - loss: 0.2601 - sparse_categorical_accuracy: 0.7659\n",
      "Epoch 12/20\n",
      "\u001b[1m1985/1985\u001b[0m \u001b[32m━━━━━━━━━━━━━━━━━━━━\u001b[0m\u001b[37m\u001b[0m \u001b[1m847s\u001b[0m 427ms/step - loss: 0.2448 - sparse_categorical_accuracy: 0.7780\n",
      "Epoch 13/20\n",
      "\u001b[1m1985/1985\u001b[0m \u001b[32m━━━━━━━━━━━━━━━━━━━━\u001b[0m\u001b[37m\u001b[0m \u001b[1m847s\u001b[0m 427ms/step - loss: 0.2280 - sparse_categorical_accuracy: 0.7919\n",
      "Epoch 14/20\n",
      "\u001b[1m1985/1985\u001b[0m \u001b[32m━━━━━━━━━━━━━━━━━━━━\u001b[0m\u001b[37m\u001b[0m \u001b[1m847s\u001b[0m 427ms/step - loss: 0.2151 - sparse_categorical_accuracy: 0.8029\n",
      "Epoch 15/20\n",
      "\u001b[1m1985/1985\u001b[0m \u001b[32m━━━━━━━━━━━━━━━━━━━━\u001b[0m\u001b[37m\u001b[0m \u001b[1m847s\u001b[0m 427ms/step - loss: 0.1936 - sparse_categorical_accuracy: 0.8229\n",
      "Epoch 16/20\n",
      "\u001b[1m1985/1985\u001b[0m \u001b[32m━━━━━━━━━━━━━━━━━━━━\u001b[0m\u001b[37m\u001b[0m \u001b[1m847s\u001b[0m 427ms/step - loss: 0.1855 - sparse_categorical_accuracy: 0.8302\n",
      "Epoch 17/20\n",
      "\u001b[1m1985/1985\u001b[0m \u001b[32m━━━━━━━━━━━━━━━━━━━━\u001b[0m\u001b[37m\u001b[0m \u001b[1m847s\u001b[0m 427ms/step - loss: 0.1720 - sparse_categorical_accuracy: 0.8434\n",
      "Epoch 18/20\n",
      "\u001b[1m1985/1985\u001b[0m \u001b[32m━━━━━━━━━━━━━━━━━━━━\u001b[0m\u001b[37m\u001b[0m \u001b[1m847s\u001b[0m 427ms/step - loss: 0.1630 - sparse_categorical_accuracy: 0.8526\n",
      "Epoch 19/20\n",
      "\u001b[1m1985/1985\u001b[0m \u001b[32m━━━━━━━━━━━━━━━━━━━━\u001b[0m\u001b[37m\u001b[0m \u001b[1m847s\u001b[0m 427ms/step - loss: 0.1545 - sparse_categorical_accuracy: 0.8602\n",
      "Epoch 20/20\n",
      "\u001b[1m1985/1985\u001b[0m \u001b[32m━━━━━━━━━━━━━━━━━━━━\u001b[0m\u001b[37m\u001b[0m \u001b[1m847s\u001b[0m 427ms/step - loss: 0.1498 - sparse_categorical_accuracy: 0.8655\n"
     ]
    }
   ],
   "source": [
    "class CustomCallback(keras.callbacks.Callback):\n",
    "  def on_epoch_end(self, epoch, logs=None):\n",
    "    model_name = f\"/kaggle/working/{lora_name}_{lora_rank}_epoch{epoch+1}.lora.h5\"\n",
    "    gemma_lm.backbone.save_lora_weights(model_name)\n",
    "\n",
    "history = gemma_lm.fit(train_list,\n",
    "                       epochs=train_epoch,\n",
    "                       batch_size=1, \n",
    "                       callbacks=[CustomCallback()])"
   ]
  },
  {
   "cell_type": "code",
   "execution_count": 11,
   "id": "5b79fcb3",
   "metadata": {
    "papermill": {
     "duration": 2.309938,
     "end_time": "2024-12-28T00:52:15.439438",
     "exception": false,
     "start_time": "2024-12-28T00:52:13.129500",
     "status": "completed"
    },
    "tags": []
   },
   "outputs": [
    {
     "data": {
      "image/png": "[encoded data removed]",
      "text/plain": [
       "<Figure size 640x480 with 1 Axes>"
      ]
     },
     "metadata": {},
     "output_type": "display_data"
    }
   ],
   "source": [
    "# A simple plot to visualize training loss\n",
    "import matplotlib.pyplot as plt\n",
    "\n",
    "plt.grid(color='gray', linestyle='--', linewidth=0.5)\n",
    "\n",
    "plt.plot(history['epochs'],history['loss'])\n",
    "plt.scatter(history['epochs'],history['loss'])\n",
    "plt.title('Training loss')\n",
    "plt.xlabel('Epoch')\n",
    "plt.xticks(history['epochs'])\n",
    "\n",
    "plt.ylabel('Loss')\n",
    "plt.show()"
   ]
  },
  {
   "cell_type": "markdown",
   "id": "168a4406-e88c-4103-bd9b-528c928d9d34",
   "metadata": {},
   "source": [
    "## Notes:\n",
    "\n",
    "From the above plot, we see that the training loss decreases in later epochs. This gives an indication of that the model is learning from the training process.\n",
    "\n",
    "The evaluation of this fine-tuned model will be done in a following notebook. This notebook serves as reference code pipeline for fine tuning Gemma 2 using keras nlp library. We covered some of the key architectural details of Gemma 2 model, and  high-level topics related to training and fine-tuning LLMs. "
   ]
  },
  {
   "cell_type": "markdown",
   "id": "dd4f8748-e35f-4e2e-8631-18be320c743b",
   "metadata": {},
   "source": [
    "##### Additional util functions"
   ]
  },
  {
   "cell_type": "code",
   "execution_count": 23,
   "id": "abbfbaad",
   "metadata": {
    "execution": {
     "iopub.execute_input": "2024-12-28T00:52:19.505787Z",
     "iopub.status.busy": "2024-12-28T00:52:19.505422Z",
     "iopub.status.idle": "2024-12-28T00:52:20.290763Z",
     "shell.execute_reply": "2024-12-28T00:52:20.289924Z"
    },
    "papermill": {
     "duration": 2.82738,
     "end_time": "2024-12-28T00:52:20.292642",
     "exception": false,
     "start_time": "2024-12-28T00:52:17.465262",
     "status": "completed"
    },
    "tags": []
   },
   "outputs": [],
   "source": [
    "## Util function to clean GPU \n",
    "import gc\n",
    "import ctypes\n",
    "import torch\n",
    "import tensorflow as tf\n",
    "tf.keras.backend.clear_session()\n",
    "def clean_memory(deep=False):\n",
    "    gc.collect()\n",
    "    if deep:\n",
    "        ctypes.CDLL(\"libc.so.6\").malloc_trim(0)\n",
    "    torch.cuda.empty_cache()"
   ]
  },
  {
   "cell_type": "code",
   "execution_count": 24,
   "id": "c2b0a996",
   "metadata": {
    "execution": {
     "iopub.execute_input": "2024-12-28T00:52:24.338015Z",
     "iopub.status.busy": "2024-12-28T00:52:24.337611Z",
     "iopub.status.idle": "2024-12-28T00:52:25.068246Z",
     "shell.execute_reply": "2024-12-28T00:52:25.067332Z"
    },
    "papermill": {
     "duration": 2.7793,
     "end_time": "2024-12-28T00:52:25.069905",
     "exception": false,
     "start_time": "2024-12-28T00:52:22.290605",
     "status": "completed"
    },
    "tags": []
   },
   "outputs": [],
   "source": [
    "# del(gemma_lm)\n",
    "\n",
    "clean_memory()"
   ]
  }
 ],
 "metadata": {
  "kaggle": {
   "accelerator": "gpu",
   "dataSources": [
    {
     "datasetId": 6332047,
     "sourceId": 10239463,
     "sourceType": "datasetVersion"
    },
    {
     "datasetId": 6332048,
     "sourceId": 10239465,
     "sourceType": "datasetVersion"
    },
    {
     "datasetId": 6332485,
     "sourceId": 10240070,
     "sourceType": "datasetVersion"
    },
    {
     "datasetId": 6334381,
     "sourceId": 10242812,
     "sourceType": "datasetVersion"
    },
    {
     "modelId": 78150,
     "modelInstanceId": 72246,
     "sourceId": 85986,
     "sourceType": "modelInstanceVersion"
    }
   ],
   "dockerImageVersionId": 30804,
   "isGpuEnabled": true,
   "isInternetEnabled": true,
   "language": "python",
   "sourceType": "notebook"
  },
  "kernelspec": {
   "display_name": "Python 3 (ipykernel)",
   "language": "python",
   "name": "python3"
  },
  "language_info": {
   "codemirror_mode": {
    "name": "ipython",
    "version": 3
   },
   "file_extension": ".py",
   "mimetype": "text/x-python",
   "name": "python",
   "nbconvert_exporter": "python",
   "pygments_lexer": "ipython3",
   "version": "3.11.8"
  },
  "papermill": {
   "default_parameters": {},
   "duration": 17479.930589,
   "end_time": "2024-12-28T00:53:23.322648",
   "environment_variables": {},
   "exception": null,
   "input_path": "__notebook__.ipynb",
   "output_path": "__notebook__.ipynb",
   "parameters": {},
   "start_time": "2024-12-27T20:02:03.392059",
   "version": "2.6.0"
  }
 },
 "nbformat": 4,
 "nbformat_minor": 5
}
